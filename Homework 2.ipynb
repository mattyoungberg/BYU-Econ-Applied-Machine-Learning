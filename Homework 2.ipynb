{
 "cells": [
  {
   "cell_type": "code",
   "execution_count": 1,
   "metadata": {},
   "outputs": [],
   "source": [
    "import pandas as pd\n",
    "import numpy as np\n",
    "import matplotlib.pyplot as plt\n",
    "import seaborn as sns\n",
    "import scipy\n",
    "import sklearn\n",
    "from sklearn import linear_model\n",
    "\n",
    "import warnings\n",
    "warnings.filterwarnings('ignore')\n",
    "\n",
    "%matplotlib inline"
   ]
  },
  {
   "cell_type": "code",
   "execution_count": 2,
   "metadata": {},
   "outputs": [],
   "source": [
    "traindf = pd.read_csv('train.csv')\n",
    "testdf = pd.read_csv('test.csv')"
   ]
  },
  {
   "cell_type": "markdown",
   "metadata": {},
   "source": [
    "# Homework 2 by Matt Youngberg\n",
    "\n",
    "I have this data set on housing prices. My goal is to minimize the Root Mean Squared Error for my predictions of the column `SalePrice`."
   ]
  },
  {
   "cell_type": "markdown",
   "metadata": {},
   "source": [
    "## Looking at `SalePrice`"
   ]
  },
  {
   "cell_type": "code",
   "execution_count": 3,
   "metadata": {},
   "outputs": [
    {
     "data": {
      "text/plain": [
       "<matplotlib.axes._subplots.AxesSubplot at 0x11baf130>"
      ]
     },
     "execution_count": 3,
     "metadata": {},
     "output_type": "execute_result"
    },
    {
     "data": {
      "image/png": "[encoded data removed]",
      "text/plain": [
       "<Figure size 432x288 with 1 Axes>"
      ]
     },
     "metadata": {
      "needs_background": "light"
     },
     "output_type": "display_data"
    }
   ],
   "source": [
    "sns.distplot(traindf['SalePrice'])"
   ]
  },
  {
   "cell_type": "markdown",
   "metadata": {},
   "source": [
    "It looks a little skewed to the right, but we should be able to transform this down the road to match. Let's describe the data."
   ]
  },
  {
   "cell_type": "code",
   "execution_count": 4,
   "metadata": {},
   "outputs": [
    {
     "data": {
      "text/plain": [
       "count      1460.000000\n",
       "mean     180921.195890\n",
       "std       79442.502883\n",
       "min       34900.000000\n",
       "25%      129975.000000\n",
       "50%      163000.000000\n",
       "75%      214000.000000\n",
       "max      755000.000000\n",
       "Name: SalePrice, dtype: float64"
      ]
     },
     "execution_count": 4,
     "metadata": {},
     "output_type": "execute_result"
    }
   ],
   "source": [
    "traindf['SalePrice'].describe()"
   ]
  },
  {
   "cell_type": "markdown",
   "metadata": {},
   "source": [
    "So we notice that, for example, min isn't 0 or the like. It looks like a fairly well put together column. Let's check for nulls."
   ]
  },
  {
   "cell_type": "code",
   "execution_count": 5,
   "metadata": {},
   "outputs": [
    {
     "data": {
      "text/plain": [
       "0"
      ]
     },
     "execution_count": 5,
     "metadata": {},
     "output_type": "execute_result"
    }
   ],
   "source": [
    "traindf['SalePrice'].isnull().sum()"
   ]
  },
  {
   "cell_type": "markdown",
   "metadata": {},
   "source": [
    "Great! A full column with data that will be useful to us. One question that I have about this column is whether it's denoting prices over times in terms of nominal or real dollars. Let's pull `SalePrice` and `YrSold` to have a good look at whether the median price is increasing over time"
   ]
  },
  {
   "cell_type": "code",
   "execution_count": 6,
   "metadata": {},
   "outputs": [
    {
     "data": {
      "text/plain": [
       "YrSold\n",
       "2006    163995\n",
       "2007    167000\n",
       "2008    164000\n",
       "2009    162000\n",
       "2010    155000\n",
       "Name: SalePrice, dtype: int64"
      ]
     },
     "execution_count": 6,
     "metadata": {},
     "output_type": "execute_result"
    }
   ],
   "source": [
    "traindf[['SalePrice', 'YrSold']].groupby('YrSold')['SalePrice'].median()"
   ]
  },
  {
   "cell_type": "markdown",
   "metadata": {},
   "source": [
    "Interesting! I thought we'd be working with a lot more years of data. Since five observations doesn't lend us a lot of statistical power, we really can't say if we're working with real or nominal dollar amounts. It shouldn't matter terribly if our data only covers four years, though.\n",
    "\n",
    "One interesting thing is that you notice price housing dipping substantially after the housing bubble burst in 2008. That's expected, and that's what our data reflects, so I think we're good using this data as is. I briefly considered trying to create a variable from the data that reflects the housing bubble (such as a binary), but decided that this would likely create more noise in our analysis than I cared to introduce. Let's start investigating the other variables that this dataset offers us.\n",
    "\n",
    "With the dependent variable out of the way, let's start looking at missing data for the entire dataframe."
   ]
  },
  {
   "cell_type": "markdown",
   "metadata": {},
   "source": [
    "## Missing Data"
   ]
  },
  {
   "cell_type": "code",
   "execution_count": 7,
   "metadata": {},
   "outputs": [
    {
     "data": {
      "text/html": [
       "<div>\n",
       "<style scoped>\n",
       "    .dataframe tbody tr th:only-of-type {\n",
       "        vertical-align: middle;\n",
       "    }\n",
       "\n",
       "    .dataframe tbody tr th {\n",
       "        vertical-align: top;\n",
       "    }\n",
       "\n",
       "    .dataframe thead th {\n",
       "        text-align: right;\n",
       "    }\n",
       "</style>\n",
       "<table border=\"1\" class=\"dataframe\">\n",
       "  <thead>\n",
       "    <tr style=\"text-align: right;\">\n",
       "      <th></th>\n",
       "      <th>Missing Count</th>\n",
       "      <th>Percent</th>\n",
       "    </tr>\n",
       "  </thead>\n",
       "  <tbody>\n",
       "    <tr>\n",
       "      <th>PoolQC</th>\n",
       "      <td>1453</td>\n",
       "      <td>0.995205</td>\n",
       "    </tr>\n",
       "    <tr>\n",
       "      <th>MiscFeature</th>\n",
       "      <td>1406</td>\n",
       "      <td>0.963014</td>\n",
       "    </tr>\n",
       "    <tr>\n",
       "      <th>Alley</th>\n",
       "      <td>1369</td>\n",
       "      <td>0.937671</td>\n",
       "    </tr>\n",
       "    <tr>\n",
       "      <th>Fence</th>\n",
       "      <td>1179</td>\n",
       "      <td>0.807534</td>\n",
       "    </tr>\n",
       "    <tr>\n",
       "      <th>FireplaceQu</th>\n",
       "      <td>690</td>\n",
       "      <td>0.472603</td>\n",
       "    </tr>\n",
       "    <tr>\n",
       "      <th>LotFrontage</th>\n",
       "      <td>259</td>\n",
       "      <td>0.177397</td>\n",
       "    </tr>\n",
       "    <tr>\n",
       "      <th>GarageCond</th>\n",
       "      <td>81</td>\n",
       "      <td>0.055479</td>\n",
       "    </tr>\n",
       "    <tr>\n",
       "      <th>GarageType</th>\n",
       "      <td>81</td>\n",
       "      <td>0.055479</td>\n",
       "    </tr>\n",
       "    <tr>\n",
       "      <th>GarageYrBlt</th>\n",
       "      <td>81</td>\n",
       "      <td>0.055479</td>\n",
       "    </tr>\n",
       "    <tr>\n",
       "      <th>GarageFinish</th>\n",
       "      <td>81</td>\n",
       "      <td>0.055479</td>\n",
       "    </tr>\n",
       "    <tr>\n",
       "      <th>GarageQual</th>\n",
       "      <td>81</td>\n",
       "      <td>0.055479</td>\n",
       "    </tr>\n",
       "    <tr>\n",
       "      <th>BsmtExposure</th>\n",
       "      <td>38</td>\n",
       "      <td>0.026027</td>\n",
       "    </tr>\n",
       "    <tr>\n",
       "      <th>BsmtFinType2</th>\n",
       "      <td>38</td>\n",
       "      <td>0.026027</td>\n",
       "    </tr>\n",
       "    <tr>\n",
       "      <th>BsmtFinType1</th>\n",
       "      <td>37</td>\n",
       "      <td>0.025342</td>\n",
       "    </tr>\n",
       "    <tr>\n",
       "      <th>BsmtCond</th>\n",
       "      <td>37</td>\n",
       "      <td>0.025342</td>\n",
       "    </tr>\n",
       "    <tr>\n",
       "      <th>BsmtQual</th>\n",
       "      <td>37</td>\n",
       "      <td>0.025342</td>\n",
       "    </tr>\n",
       "    <tr>\n",
       "      <th>MasVnrArea</th>\n",
       "      <td>8</td>\n",
       "      <td>0.005479</td>\n",
       "    </tr>\n",
       "    <tr>\n",
       "      <th>MasVnrType</th>\n",
       "      <td>8</td>\n",
       "      <td>0.005479</td>\n",
       "    </tr>\n",
       "    <tr>\n",
       "      <th>Electrical</th>\n",
       "      <td>1</td>\n",
       "      <td>0.000685</td>\n",
       "    </tr>\n",
       "  </tbody>\n",
       "</table>\n",
       "</div>"
      ],
      "text/plain": [
       "              Missing Count   Percent\n",
       "PoolQC                 1453  0.995205\n",
       "MiscFeature            1406  0.963014\n",
       "Alley                  1369  0.937671\n",
       "Fence                  1179  0.807534\n",
       "FireplaceQu             690  0.472603\n",
       "LotFrontage             259  0.177397\n",
       "GarageCond               81  0.055479\n",
       "GarageType               81  0.055479\n",
       "GarageYrBlt              81  0.055479\n",
       "GarageFinish             81  0.055479\n",
       "GarageQual               81  0.055479\n",
       "BsmtExposure             38  0.026027\n",
       "BsmtFinType2             38  0.026027\n",
       "BsmtFinType1             37  0.025342\n",
       "BsmtCond                 37  0.025342\n",
       "BsmtQual                 37  0.025342\n",
       "MasVnrArea                8  0.005479\n",
       "MasVnrType                8  0.005479\n",
       "Electrical                1  0.000685"
      ]
     },
     "execution_count": 7,
     "metadata": {},
     "output_type": "execute_result"
    }
   ],
   "source": [
    "missing = traindf.isnull().sum().sort_values(ascending=False)\n",
    "missing = missing.loc[missing != 0].to_frame('Missing Count')\n",
    "missing['Percent'] = missing / len(traindf)\n",
    "missing"
   ]
  },
  {
   "cell_type": "markdown",
   "metadata": {},
   "source": [
    "Wow. There are certain values that just seem to be straight up missing from housing data. There's a big jump from `GarageCond` to `LotFrontage`, so I think that's where I'm going to draw a line. I'm going to drop these variables from the dataset since they're missing so many values. Then I'll consider what to do about the rest."
   ]
  },
  {
   "cell_type": "code",
   "execution_count": 8,
   "metadata": {},
   "outputs": [],
   "source": [
    "to_drop = missing[0:6].index.tolist()\n",
    "traindf = traindf.drop(to_drop, axis=1)"
   ]
  },
  {
   "cell_type": "markdown",
   "metadata": {},
   "source": [
    "Now, I know that there are other variable types for garage and basement. Let's look at all the values for each set, see if there is a feature variable that explains the columns with missing data well enough, and drop it if it does. Let's start with the garage variables."
   ]
  },
  {
   "cell_type": "code",
   "execution_count": 9,
   "metadata": {},
   "outputs": [
    {
     "data": {
      "text/plain": [
       "Index(['GarageType', 'GarageYrBlt', 'GarageFinish', 'GarageCars', 'GarageArea',\n",
       "       'GarageQual', 'GarageCond'],\n",
       "      dtype='object')"
      ]
     },
     "execution_count": 9,
     "metadata": {},
     "output_type": "execute_result"
    }
   ],
   "source": [
    "traindf.filter(like='Garage').columns"
   ]
  },
  {
   "cell_type": "markdown",
   "metadata": {},
   "source": [
    "Okay. So the two garage features here that don't have any missing data are `GarageCars` and `GarageArea`. The real question now is whether I feel like these two can explain whatever meaning might be lost if I decide to drop one, some, or all of these variables.\n",
    "\n",
    "However, I also notice that they all have the same exact number of missing values, so let's see if those are all the same entries or not (It's my hunch that they are)."
   ]
  },
  {
   "cell_type": "code",
   "execution_count": 10,
   "metadata": {},
   "outputs": [
    {
     "data": {
      "text/plain": [
       "(81, 7)"
      ]
     },
     "execution_count": 10,
     "metadata": {},
     "output_type": "execute_result"
    }
   ],
   "source": [
    "garage = traindf.filter(like='Garage')\n",
    "garage_masked = garage[(garage['GarageType'].isnull()) & (garage['GarageYrBlt'].isnull()) & (garage['GarageFinish'].isnull()) & (garage['GarageQual'].isnull()) & (garage['GarageCond'].isnull())]\n",
    "garage_masked.shape"
   ]
  },
  {
   "cell_type": "code",
   "execution_count": 11,
   "metadata": {},
   "outputs": [
    {
     "name": "stdout",
     "output_type": "stream",
     "text": [
      "0\n",
      "0\n"
     ]
    }
   ],
   "source": [
    "print(garage_masked['GarageCars'].sum())\n",
    "print(garage_masked['GarageArea'].sum())"
   ]
  },
  {
   "cell_type": "markdown",
   "metadata": {},
   "source": [
    "Great! All the missing values correspond to all the same rows. Also, interestingly, all the values that are missing the 5 of 7 `Garage` variables also have zeros in for `GarageCars` and `GarageArea`. It's extremely probable that entries that don't have those 5 `Garage` values simply don't have garages.\n",
    "\n",
    "I imagine that a house _without_ a garage is worth significantly less than a house _with_ a garage. What I'll do is create a mask for my dataframe that identifies what rows miss this data, and correspondingly create a dummy column that is 1 if a house does not have a garage."
   ]
  },
  {
   "cell_type": "code",
   "execution_count": 12,
   "metadata": {},
   "outputs": [],
   "source": [
    "def no_garage(df, inplace=False):\n",
    "    copy = df\n",
    "    mask = (copy['GarageType'].isnull()) & (copy['GarageYrBlt'].isnull()) & (copy['GarageFinish'].isnull()) & (copy['GarageQual'].isnull()) & (copy['GarageCond'].isnull())\n",
    "    copy['No_Garage'] = 1\n",
    "    copy['No_Garage'] = copy['No_Garage'].where(cond=mask, other=0)\n",
    "    if inplace is False:\n",
    "        return copy\n",
    "    else:\n",
    "        df = copy\n",
    "        return"
   ]
  },
  {
   "cell_type": "code",
   "execution_count": 13,
   "metadata": {},
   "outputs": [],
   "source": [
    "no_garage(traindf, inplace=True)"
   ]
  },
  {
   "cell_type": "markdown",
   "metadata": {},
   "source": [
    "Awesome! Now we have transformed our training dataset to have a dummy for whether or not there is a garage. As long as I don't include those 5 garage variables as feature variables in my model, but _do_ include the new dummy variable I've created, I'll be golden.\n",
    "\n",
    "Now let's see if we can find any commonality in the `Bsmt` terms."
   ]
  },
  {
   "cell_type": "code",
   "execution_count": 14,
   "metadata": {},
   "outputs": [
    {
     "data": {
      "text/html": [
       "<div>\n",
       "<style scoped>\n",
       "    .dataframe tbody tr th:only-of-type {\n",
       "        vertical-align: middle;\n",
       "    }\n",
       "\n",
       "    .dataframe tbody tr th {\n",
       "        vertical-align: top;\n",
       "    }\n",
       "\n",
       "    .dataframe thead th {\n",
       "        text-align: right;\n",
       "    }\n",
       "</style>\n",
       "<table border=\"1\" class=\"dataframe\">\n",
       "  <thead>\n",
       "    <tr style=\"text-align: right;\">\n",
       "      <th></th>\n",
       "      <th>BsmtExposure</th>\n",
       "      <th>BsmtFinType2</th>\n",
       "      <th>BsmtFinType1</th>\n",
       "      <th>BsmtCond</th>\n",
       "      <th>BsmtQual</th>\n",
       "      <th>TotalBsmtSF</th>\n",
       "    </tr>\n",
       "  </thead>\n",
       "  <tbody>\n",
       "    <tr>\n",
       "      <th>17</th>\n",
       "      <td>NaN</td>\n",
       "      <td>NaN</td>\n",
       "      <td>NaN</td>\n",
       "      <td>NaN</td>\n",
       "      <td>NaN</td>\n",
       "      <td>0</td>\n",
       "    </tr>\n",
       "    <tr>\n",
       "      <th>39</th>\n",
       "      <td>NaN</td>\n",
       "      <td>NaN</td>\n",
       "      <td>NaN</td>\n",
       "      <td>NaN</td>\n",
       "      <td>NaN</td>\n",
       "      <td>0</td>\n",
       "    </tr>\n",
       "    <tr>\n",
       "      <th>90</th>\n",
       "      <td>NaN</td>\n",
       "      <td>NaN</td>\n",
       "      <td>NaN</td>\n",
       "      <td>NaN</td>\n",
       "      <td>NaN</td>\n",
       "      <td>0</td>\n",
       "    </tr>\n",
       "    <tr>\n",
       "      <th>102</th>\n",
       "      <td>NaN</td>\n",
       "      <td>NaN</td>\n",
       "      <td>NaN</td>\n",
       "      <td>NaN</td>\n",
       "      <td>NaN</td>\n",
       "      <td>0</td>\n",
       "    </tr>\n",
       "    <tr>\n",
       "      <th>156</th>\n",
       "      <td>NaN</td>\n",
       "      <td>NaN</td>\n",
       "      <td>NaN</td>\n",
       "      <td>NaN</td>\n",
       "      <td>NaN</td>\n",
       "      <td>0</td>\n",
       "    </tr>\n",
       "    <tr>\n",
       "      <th>182</th>\n",
       "      <td>NaN</td>\n",
       "      <td>NaN</td>\n",
       "      <td>NaN</td>\n",
       "      <td>NaN</td>\n",
       "      <td>NaN</td>\n",
       "      <td>0</td>\n",
       "    </tr>\n",
       "    <tr>\n",
       "      <th>259</th>\n",
       "      <td>NaN</td>\n",
       "      <td>NaN</td>\n",
       "      <td>NaN</td>\n",
       "      <td>NaN</td>\n",
       "      <td>NaN</td>\n",
       "      <td>0</td>\n",
       "    </tr>\n",
       "    <tr>\n",
       "      <th>332</th>\n",
       "      <td>No</td>\n",
       "      <td>NaN</td>\n",
       "      <td>GLQ</td>\n",
       "      <td>TA</td>\n",
       "      <td>Gd</td>\n",
       "      <td>3206</td>\n",
       "    </tr>\n",
       "    <tr>\n",
       "      <th>342</th>\n",
       "      <td>NaN</td>\n",
       "      <td>NaN</td>\n",
       "      <td>NaN</td>\n",
       "      <td>NaN</td>\n",
       "      <td>NaN</td>\n",
       "      <td>0</td>\n",
       "    </tr>\n",
       "    <tr>\n",
       "      <th>362</th>\n",
       "      <td>NaN</td>\n",
       "      <td>NaN</td>\n",
       "      <td>NaN</td>\n",
       "      <td>NaN</td>\n",
       "      <td>NaN</td>\n",
       "      <td>0</td>\n",
       "    </tr>\n",
       "    <tr>\n",
       "      <th>371</th>\n",
       "      <td>NaN</td>\n",
       "      <td>NaN</td>\n",
       "      <td>NaN</td>\n",
       "      <td>NaN</td>\n",
       "      <td>NaN</td>\n",
       "      <td>0</td>\n",
       "    </tr>\n",
       "    <tr>\n",
       "      <th>392</th>\n",
       "      <td>NaN</td>\n",
       "      <td>NaN</td>\n",
       "      <td>NaN</td>\n",
       "      <td>NaN</td>\n",
       "      <td>NaN</td>\n",
       "      <td>0</td>\n",
       "    </tr>\n",
       "    <tr>\n",
       "      <th>520</th>\n",
       "      <td>NaN</td>\n",
       "      <td>NaN</td>\n",
       "      <td>NaN</td>\n",
       "      <td>NaN</td>\n",
       "      <td>NaN</td>\n",
       "      <td>0</td>\n",
       "    </tr>\n",
       "    <tr>\n",
       "      <th>532</th>\n",
       "      <td>NaN</td>\n",
       "      <td>NaN</td>\n",
       "      <td>NaN</td>\n",
       "      <td>NaN</td>\n",
       "      <td>NaN</td>\n",
       "      <td>0</td>\n",
       "    </tr>\n",
       "    <tr>\n",
       "      <th>533</th>\n",
       "      <td>NaN</td>\n",
       "      <td>NaN</td>\n",
       "      <td>NaN</td>\n",
       "      <td>NaN</td>\n",
       "      <td>NaN</td>\n",
       "      <td>0</td>\n",
       "    </tr>\n",
       "    <tr>\n",
       "      <th>553</th>\n",
       "      <td>NaN</td>\n",
       "      <td>NaN</td>\n",
       "      <td>NaN</td>\n",
       "      <td>NaN</td>\n",
       "      <td>NaN</td>\n",
       "      <td>0</td>\n",
       "    </tr>\n",
       "    <tr>\n",
       "      <th>646</th>\n",
       "      <td>NaN</td>\n",
       "      <td>NaN</td>\n",
       "      <td>NaN</td>\n",
       "      <td>NaN</td>\n",
       "      <td>NaN</td>\n",
       "      <td>0</td>\n",
       "    </tr>\n",
       "    <tr>\n",
       "      <th>705</th>\n",
       "      <td>NaN</td>\n",
       "      <td>NaN</td>\n",
       "      <td>NaN</td>\n",
       "      <td>NaN</td>\n",
       "      <td>NaN</td>\n",
       "      <td>0</td>\n",
       "    </tr>\n",
       "    <tr>\n",
       "      <th>736</th>\n",
       "      <td>NaN</td>\n",
       "      <td>NaN</td>\n",
       "      <td>NaN</td>\n",
       "      <td>NaN</td>\n",
       "      <td>NaN</td>\n",
       "      <td>0</td>\n",
       "    </tr>\n",
       "    <tr>\n",
       "      <th>749</th>\n",
       "      <td>NaN</td>\n",
       "      <td>NaN</td>\n",
       "      <td>NaN</td>\n",
       "      <td>NaN</td>\n",
       "      <td>NaN</td>\n",
       "      <td>0</td>\n",
       "    </tr>\n",
       "    <tr>\n",
       "      <th>778</th>\n",
       "      <td>NaN</td>\n",
       "      <td>NaN</td>\n",
       "      <td>NaN</td>\n",
       "      <td>NaN</td>\n",
       "      <td>NaN</td>\n",
       "      <td>0</td>\n",
       "    </tr>\n",
       "    <tr>\n",
       "      <th>868</th>\n",
       "      <td>NaN</td>\n",
       "      <td>NaN</td>\n",
       "      <td>NaN</td>\n",
       "      <td>NaN</td>\n",
       "      <td>NaN</td>\n",
       "      <td>0</td>\n",
       "    </tr>\n",
       "    <tr>\n",
       "      <th>894</th>\n",
       "      <td>NaN</td>\n",
       "      <td>NaN</td>\n",
       "      <td>NaN</td>\n",
       "      <td>NaN</td>\n",
       "      <td>NaN</td>\n",
       "      <td>0</td>\n",
       "    </tr>\n",
       "    <tr>\n",
       "      <th>897</th>\n",
       "      <td>NaN</td>\n",
       "      <td>NaN</td>\n",
       "      <td>NaN</td>\n",
       "      <td>NaN</td>\n",
       "      <td>NaN</td>\n",
       "      <td>0</td>\n",
       "    </tr>\n",
       "    <tr>\n",
       "      <th>948</th>\n",
       "      <td>NaN</td>\n",
       "      <td>Unf</td>\n",
       "      <td>Unf</td>\n",
       "      <td>TA</td>\n",
       "      <td>Gd</td>\n",
       "      <td>936</td>\n",
       "    </tr>\n",
       "    <tr>\n",
       "      <th>984</th>\n",
       "      <td>NaN</td>\n",
       "      <td>NaN</td>\n",
       "      <td>NaN</td>\n",
       "      <td>NaN</td>\n",
       "      <td>NaN</td>\n",
       "      <td>0</td>\n",
       "    </tr>\n",
       "    <tr>\n",
       "      <th>1000</th>\n",
       "      <td>NaN</td>\n",
       "      <td>NaN</td>\n",
       "      <td>NaN</td>\n",
       "      <td>NaN</td>\n",
       "      <td>NaN</td>\n",
       "      <td>0</td>\n",
       "    </tr>\n",
       "    <tr>\n",
       "      <th>1011</th>\n",
       "      <td>NaN</td>\n",
       "      <td>NaN</td>\n",
       "      <td>NaN</td>\n",
       "      <td>NaN</td>\n",
       "      <td>NaN</td>\n",
       "      <td>0</td>\n",
       "    </tr>\n",
       "    <tr>\n",
       "      <th>1035</th>\n",
       "      <td>NaN</td>\n",
       "      <td>NaN</td>\n",
       "      <td>NaN</td>\n",
       "      <td>NaN</td>\n",
       "      <td>NaN</td>\n",
       "      <td>0</td>\n",
       "    </tr>\n",
       "    <tr>\n",
       "      <th>1045</th>\n",
       "      <td>NaN</td>\n",
       "      <td>NaN</td>\n",
       "      <td>NaN</td>\n",
       "      <td>NaN</td>\n",
       "      <td>NaN</td>\n",
       "      <td>0</td>\n",
       "    </tr>\n",
       "    <tr>\n",
       "      <th>1048</th>\n",
       "      <td>NaN</td>\n",
       "      <td>NaN</td>\n",
       "      <td>NaN</td>\n",
       "      <td>NaN</td>\n",
       "      <td>NaN</td>\n",
       "      <td>0</td>\n",
       "    </tr>\n",
       "    <tr>\n",
       "      <th>1049</th>\n",
       "      <td>NaN</td>\n",
       "      <td>NaN</td>\n",
       "      <td>NaN</td>\n",
       "      <td>NaN</td>\n",
       "      <td>NaN</td>\n",
       "      <td>0</td>\n",
       "    </tr>\n",
       "    <tr>\n",
       "      <th>1090</th>\n",
       "      <td>NaN</td>\n",
       "      <td>NaN</td>\n",
       "      <td>NaN</td>\n",
       "      <td>NaN</td>\n",
       "      <td>NaN</td>\n",
       "      <td>0</td>\n",
       "    </tr>\n",
       "    <tr>\n",
       "      <th>1179</th>\n",
       "      <td>NaN</td>\n",
       "      <td>NaN</td>\n",
       "      <td>NaN</td>\n",
       "      <td>NaN</td>\n",
       "      <td>NaN</td>\n",
       "      <td>0</td>\n",
       "    </tr>\n",
       "    <tr>\n",
       "      <th>1216</th>\n",
       "      <td>NaN</td>\n",
       "      <td>NaN</td>\n",
       "      <td>NaN</td>\n",
       "      <td>NaN</td>\n",
       "      <td>NaN</td>\n",
       "      <td>0</td>\n",
       "    </tr>\n",
       "    <tr>\n",
       "      <th>1218</th>\n",
       "      <td>NaN</td>\n",
       "      <td>NaN</td>\n",
       "      <td>NaN</td>\n",
       "      <td>NaN</td>\n",
       "      <td>NaN</td>\n",
       "      <td>0</td>\n",
       "    </tr>\n",
       "    <tr>\n",
       "      <th>1232</th>\n",
       "      <td>NaN</td>\n",
       "      <td>NaN</td>\n",
       "      <td>NaN</td>\n",
       "      <td>NaN</td>\n",
       "      <td>NaN</td>\n",
       "      <td>0</td>\n",
       "    </tr>\n",
       "    <tr>\n",
       "      <th>1321</th>\n",
       "      <td>NaN</td>\n",
       "      <td>NaN</td>\n",
       "      <td>NaN</td>\n",
       "      <td>NaN</td>\n",
       "      <td>NaN</td>\n",
       "      <td>0</td>\n",
       "    </tr>\n",
       "    <tr>\n",
       "      <th>1412</th>\n",
       "      <td>NaN</td>\n",
       "      <td>NaN</td>\n",
       "      <td>NaN</td>\n",
       "      <td>NaN</td>\n",
       "      <td>NaN</td>\n",
       "      <td>0</td>\n",
       "    </tr>\n",
       "  </tbody>\n",
       "</table>\n",
       "</div>"
      ],
      "text/plain": [
       "     BsmtExposure BsmtFinType2 BsmtFinType1 BsmtCond BsmtQual  TotalBsmtSF\n",
       "17            NaN          NaN          NaN      NaN      NaN            0\n",
       "39            NaN          NaN          NaN      NaN      NaN            0\n",
       "90            NaN          NaN          NaN      NaN      NaN            0\n",
       "102           NaN          NaN          NaN      NaN      NaN            0\n",
       "156           NaN          NaN          NaN      NaN      NaN            0\n",
       "182           NaN          NaN          NaN      NaN      NaN            0\n",
       "259           NaN          NaN          NaN      NaN      NaN            0\n",
       "332            No          NaN          GLQ       TA       Gd         3206\n",
       "342           NaN          NaN          NaN      NaN      NaN            0\n",
       "362           NaN          NaN          NaN      NaN      NaN            0\n",
       "371           NaN          NaN          NaN      NaN      NaN            0\n",
       "392           NaN          NaN          NaN      NaN      NaN            0\n",
       "520           NaN          NaN          NaN      NaN      NaN            0\n",
       "532           NaN          NaN          NaN      NaN      NaN            0\n",
       "533           NaN          NaN          NaN      NaN      NaN            0\n",
       "553           NaN          NaN          NaN      NaN      NaN            0\n",
       "646           NaN          NaN          NaN      NaN      NaN            0\n",
       "705           NaN          NaN          NaN      NaN      NaN            0\n",
       "736           NaN          NaN          NaN      NaN      NaN            0\n",
       "749           NaN          NaN          NaN      NaN      NaN            0\n",
       "778           NaN          NaN          NaN      NaN      NaN            0\n",
       "868           NaN          NaN          NaN      NaN      NaN            0\n",
       "894           NaN          NaN          NaN      NaN      NaN            0\n",
       "897           NaN          NaN          NaN      NaN      NaN            0\n",
       "948           NaN          Unf          Unf       TA       Gd          936\n",
       "984           NaN          NaN          NaN      NaN      NaN            0\n",
       "1000          NaN          NaN          NaN      NaN      NaN            0\n",
       "1011          NaN          NaN          NaN      NaN      NaN            0\n",
       "1035          NaN          NaN          NaN      NaN      NaN            0\n",
       "1045          NaN          NaN          NaN      NaN      NaN            0\n",
       "1048          NaN          NaN          NaN      NaN      NaN            0\n",
       "1049          NaN          NaN          NaN      NaN      NaN            0\n",
       "1090          NaN          NaN          NaN      NaN      NaN            0\n",
       "1179          NaN          NaN          NaN      NaN      NaN            0\n",
       "1216          NaN          NaN          NaN      NaN      NaN            0\n",
       "1218          NaN          NaN          NaN      NaN      NaN            0\n",
       "1232          NaN          NaN          NaN      NaN      NaN            0\n",
       "1321          NaN          NaN          NaN      NaN      NaN            0\n",
       "1412          NaN          NaN          NaN      NaN      NaN            0"
      ]
     },
     "execution_count": 14,
     "metadata": {},
     "output_type": "execute_result"
    }
   ],
   "source": [
    "bsmt = traindf[['BsmtExposure', 'BsmtFinType2', 'BsmtFinType1', 'BsmtCond', 'BsmtQual', 'TotalBsmtSF']]\n",
    "bsmt.loc[bsmt.isnull().any(axis=1)]"
   ]
  },
  {
   "cell_type": "markdown",
   "metadata": {},
   "source": [
    "I can see that most of these rows are generated by houses that have no basement. There are two exceptions. Index locations 332 and 948.\n",
    "\n",
    "At 342, we see that the basement has a value for `BsmtFinType1` but not `BsmtFinType2`. The documentation for the data says \"Quality of second finished area (if present)\". I feel safe assuming that this is the only instance where a basement does not have a second finished area. What I will do is just copy the first style into the second since it should, in theory, have the same effect in the buyers mind in price taking. \n",
    "\n",
    "At 948, we see that it simply has a NaN value for `BsmtExposure`. If this data wasn't filled out, I think I can safely assume that it is not exposed (or something to that effect). I'll fill in that data manually.\n",
    "\n",
    "Let's create another dataframe transformation function that handles this case for my training dataset as well as my test dataset if it's the case that this type of missing data is repeated. If `TotalBsmtSF` is 0, I'll also have it break out a dummy column to indicate that it doesn't have a basement. I can use that in place of the variables that have missing values."
   ]
  },
  {
   "cell_type": "code",
   "execution_count": 15,
   "metadata": {},
   "outputs": [],
   "source": [
    "def basement_handling(df, inplace=False):\n",
    "    copy = df\n",
    "    cond1 = copy['TotalBsmtSF'] == 0\n",
    "    copy['No_Bsmt'] = 1\n",
    "    copy['No_Bsmt'] = copy['No_Bsmt'].where(cond=cond1, other=0)\n",
    "    copy['BsmtFinType2'].fillna(value=copy['BsmtFinType1'], inplace=True)\n",
    "    cond2 = (copy['TotalBsmtSF'] != 0) & (copy['BsmtExposure'] is not np.nan)\n",
    "    copy['BsmtExposure'] = copy['BsmtExposure'].where(cond=cond2, other='No')\n",
    "    if inplace is False:\n",
    "        return copy\n",
    "    else:\n",
    "        df = copy\n",
    "        return"
   ]
  },
  {
   "cell_type": "markdown",
   "metadata": {},
   "source": [
    "Okay. Now to turn our gaze to `MasVnrArea` and `MasVnrType` to see what's missing there. I'm going to see if this is a case where `NaN` could be interpreted as a zero or not by looking to see if there are any houses in the dataset that have 0 for `MasVnrArea`."
   ]
  },
  {
   "cell_type": "code",
   "execution_count": 16,
   "metadata": {},
   "outputs": [
    {
     "name": "stdout",
     "output_type": "stream",
     "text": [
      "(861, 2)\n"
     ]
    },
    {
     "data": {
      "text/html": [
       "<div>\n",
       "<style scoped>\n",
       "    .dataframe tbody tr th:only-of-type {\n",
       "        vertical-align: middle;\n",
       "    }\n",
       "\n",
       "    .dataframe tbody tr th {\n",
       "        vertical-align: top;\n",
       "    }\n",
       "\n",
       "    .dataframe thead th {\n",
       "        text-align: right;\n",
       "    }\n",
       "</style>\n",
       "<table border=\"1\" class=\"dataframe\">\n",
       "  <thead>\n",
       "    <tr style=\"text-align: right;\">\n",
       "      <th></th>\n",
       "      <th>MasVnrArea</th>\n",
       "      <th>MasVnrType</th>\n",
       "    </tr>\n",
       "  </thead>\n",
       "  <tbody>\n",
       "    <tr>\n",
       "      <th>1</th>\n",
       "      <td>0.0</td>\n",
       "      <td>None</td>\n",
       "    </tr>\n",
       "    <tr>\n",
       "      <th>3</th>\n",
       "      <td>0.0</td>\n",
       "      <td>None</td>\n",
       "    </tr>\n",
       "    <tr>\n",
       "      <th>5</th>\n",
       "      <td>0.0</td>\n",
       "      <td>None</td>\n",
       "    </tr>\n",
       "    <tr>\n",
       "      <th>8</th>\n",
       "      <td>0.0</td>\n",
       "      <td>None</td>\n",
       "    </tr>\n",
       "    <tr>\n",
       "      <th>9</th>\n",
       "      <td>0.0</td>\n",
       "      <td>None</td>\n",
       "    </tr>\n",
       "  </tbody>\n",
       "</table>\n",
       "</div>"
      ],
      "text/plain": [
       "   MasVnrArea MasVnrType\n",
       "1         0.0       None\n",
       "3         0.0       None\n",
       "5         0.0       None\n",
       "8         0.0       None\n",
       "9         0.0       None"
      ]
     },
     "execution_count": 16,
     "metadata": {},
     "output_type": "execute_result"
    }
   ],
   "source": [
    "vnrarea_0 = traindf[['MasVnrArea', 'MasVnrType']].loc[traindf['MasVnrArea'] == 0]\n",
    "print(vnrarea_0.shape)\n",
    "vnrarea_0.head()"
   ]
  },
  {
   "cell_type": "markdown",
   "metadata": {},
   "source": [
    "There are a lot of houses that have 0 `MasVnrArea`. And it looks like they correspondingly have a `Nonetype` object in the `MasVnrType` column. Let's see if this is the case for _all_ entries."
   ]
  },
  {
   "cell_type": "code",
   "execution_count": 17,
   "metadata": {},
   "outputs": [
    {
     "data": {
      "text/plain": [
       "None       859\n",
       "Stone        1\n",
       "BrkFace      1\n",
       "Name: MasVnrType, dtype: int64"
      ]
     },
     "execution_count": 17,
     "metadata": {},
     "output_type": "execute_result"
    }
   ],
   "source": [
    "vnrarea_0['MasVnrType'].value_counts()"
   ]
  },
  {
   "cell_type": "markdown",
   "metadata": {},
   "source": [
    "I think it's an error in the data that something with zero area can have a style. I'll eventually rewrite these values as zero. Let's see if we can figure out where the `NaN`s come from in the `MasVnrType` column."
   ]
  },
  {
   "cell_type": "code",
   "execution_count": 18,
   "metadata": {},
   "outputs": [
    {
     "data": {
      "text/html": [
       "<div>\n",
       "<style scoped>\n",
       "    .dataframe tbody tr th:only-of-type {\n",
       "        vertical-align: middle;\n",
       "    }\n",
       "\n",
       "    .dataframe tbody tr th {\n",
       "        vertical-align: top;\n",
       "    }\n",
       "\n",
       "    .dataframe thead th {\n",
       "        text-align: right;\n",
       "    }\n",
       "</style>\n",
       "<table border=\"1\" class=\"dataframe\">\n",
       "  <thead>\n",
       "    <tr style=\"text-align: right;\">\n",
       "      <th></th>\n",
       "      <th>MasVnrType</th>\n",
       "      <th>MasVnrArea</th>\n",
       "    </tr>\n",
       "  </thead>\n",
       "  <tbody>\n",
       "    <tr>\n",
       "      <th>234</th>\n",
       "      <td>NaN</td>\n",
       "      <td>NaN</td>\n",
       "    </tr>\n",
       "    <tr>\n",
       "      <th>529</th>\n",
       "      <td>NaN</td>\n",
       "      <td>NaN</td>\n",
       "    </tr>\n",
       "    <tr>\n",
       "      <th>650</th>\n",
       "      <td>NaN</td>\n",
       "      <td>NaN</td>\n",
       "    </tr>\n",
       "    <tr>\n",
       "      <th>936</th>\n",
       "      <td>NaN</td>\n",
       "      <td>NaN</td>\n",
       "    </tr>\n",
       "    <tr>\n",
       "      <th>973</th>\n",
       "      <td>NaN</td>\n",
       "      <td>NaN</td>\n",
       "    </tr>\n",
       "    <tr>\n",
       "      <th>977</th>\n",
       "      <td>NaN</td>\n",
       "      <td>NaN</td>\n",
       "    </tr>\n",
       "    <tr>\n",
       "      <th>1243</th>\n",
       "      <td>NaN</td>\n",
       "      <td>NaN</td>\n",
       "    </tr>\n",
       "    <tr>\n",
       "      <th>1278</th>\n",
       "      <td>NaN</td>\n",
       "      <td>NaN</td>\n",
       "    </tr>\n",
       "  </tbody>\n",
       "</table>\n",
       "</div>"
      ],
      "text/plain": [
       "     MasVnrType  MasVnrArea\n",
       "234         NaN         NaN\n",
       "529         NaN         NaN\n",
       "650         NaN         NaN\n",
       "936         NaN         NaN\n",
       "973         NaN         NaN\n",
       "977         NaN         NaN\n",
       "1243        NaN         NaN\n",
       "1278        NaN         NaN"
      ]
     },
     "execution_count": 18,
     "metadata": {},
     "output_type": "execute_result"
    }
   ],
   "source": [
    "traindf[['MasVnrType', 'MasVnrArea']].loc[traindf['MasVnrType'].isnull()]"
   ]
  },
  {
   "cell_type": "markdown",
   "metadata": {},
   "source": [
    "Okay. I'm just going to fill these in with zeros for `MasVnrArea` and `None` for `MasVnrType`. If they had this feature, I'm assuming it'd be recorded. Because they're `NaN`, my best assumption is that there was any data to fill in these fields because it didn't exist. That might not _always_ be the case, but I think it's a good assumption, so I'm going to go with it. Let's write a function to handle it."
   ]
  },
  {
   "cell_type": "code",
   "execution_count": 19,
   "metadata": {},
   "outputs": [],
   "source": [
    "def masvnr_handling(df, inplace=False):\n",
    "    copy = df\n",
    "    copy['MasVnrArea'] = copy['MasVnrArea'].fillna(0)\n",
    "    copy['MasVnrType'] = copy['MasVnrType'].where((copy['MasVnrArea'] != 0), other=np.nan)\n",
    "    if inplace is False:\n",
    "        return copy\n",
    "    else:\n",
    "        df = copy\n",
    "        return"
   ]
  },
  {
   "cell_type": "markdown",
   "metadata": {},
   "source": [
    "Okay. One last variable. `Electrical`. Let's look at the column generally to figure out what it contains, and then look at the missing space specifically."
   ]
  },
  {
   "cell_type": "code",
   "execution_count": 20,
   "metadata": {},
   "outputs": [
    {
     "data": {
      "text/plain": [
       "SBrkr    1334\n",
       "FuseA      94\n",
       "FuseF      27\n",
       "FuseP       3\n",
       "Mix         1\n",
       "Name: Electrical, dtype: int64"
      ]
     },
     "execution_count": 20,
     "metadata": {},
     "output_type": "execute_result"
    }
   ],
   "source": [
    "traindf['Electrical'].value_counts()"
   ]
  },
  {
   "cell_type": "markdown",
   "metadata": {},
   "source": [
    "This just may be an odd case of a house that doesn't have electricty. I'll leave it be. I do this because this data is categorical, and the `.get_dummies()` dataframe method won't break out a dummy variable for `np.nan` objects when ran.\n",
    "\n",
    "Now that we've dealt with _how_ to handle missing data, let's actually apply the three functions to our training dataset."
   ]
  },
  {
   "cell_type": "code",
   "execution_count": 21,
   "metadata": {},
   "outputs": [
    {
     "data": {
      "text/html": [
       "<div>\n",
       "<style scoped>\n",
       "    .dataframe tbody tr th:only-of-type {\n",
       "        vertical-align: middle;\n",
       "    }\n",
       "\n",
       "    .dataframe tbody tr th {\n",
       "        vertical-align: top;\n",
       "    }\n",
       "\n",
       "    .dataframe thead th {\n",
       "        text-align: right;\n",
       "    }\n",
       "</style>\n",
       "<table border=\"1\" class=\"dataframe\">\n",
       "  <thead>\n",
       "    <tr style=\"text-align: right;\">\n",
       "      <th></th>\n",
       "      <th>Id</th>\n",
       "      <th>MSSubClass</th>\n",
       "      <th>MSZoning</th>\n",
       "      <th>LotArea</th>\n",
       "      <th>Street</th>\n",
       "      <th>LotShape</th>\n",
       "      <th>LandContour</th>\n",
       "      <th>Utilities</th>\n",
       "      <th>LotConfig</th>\n",
       "      <th>LandSlope</th>\n",
       "      <th>...</th>\n",
       "      <th>ScreenPorch</th>\n",
       "      <th>PoolArea</th>\n",
       "      <th>MiscVal</th>\n",
       "      <th>MoSold</th>\n",
       "      <th>YrSold</th>\n",
       "      <th>SaleType</th>\n",
       "      <th>SaleCondition</th>\n",
       "      <th>SalePrice</th>\n",
       "      <th>No_Garage</th>\n",
       "      <th>No_Bsmt</th>\n",
       "    </tr>\n",
       "  </thead>\n",
       "  <tbody>\n",
       "    <tr>\n",
       "      <th>0</th>\n",
       "      <td>1</td>\n",
       "      <td>60</td>\n",
       "      <td>RL</td>\n",
       "      <td>8450</td>\n",
       "      <td>Pave</td>\n",
       "      <td>Reg</td>\n",
       "      <td>Lvl</td>\n",
       "      <td>AllPub</td>\n",
       "      <td>Inside</td>\n",
       "      <td>Gtl</td>\n",
       "      <td>...</td>\n",
       "      <td>0</td>\n",
       "      <td>0</td>\n",
       "      <td>0</td>\n",
       "      <td>2</td>\n",
       "      <td>2008</td>\n",
       "      <td>WD</td>\n",
       "      <td>Normal</td>\n",
       "      <td>208500</td>\n",
       "      <td>0</td>\n",
       "      <td>0</td>\n",
       "    </tr>\n",
       "    <tr>\n",
       "      <th>1</th>\n",
       "      <td>2</td>\n",
       "      <td>20</td>\n",
       "      <td>RL</td>\n",
       "      <td>9600</td>\n",
       "      <td>Pave</td>\n",
       "      <td>Reg</td>\n",
       "      <td>Lvl</td>\n",
       "      <td>AllPub</td>\n",
       "      <td>FR2</td>\n",
       "      <td>Gtl</td>\n",
       "      <td>...</td>\n",
       "      <td>0</td>\n",
       "      <td>0</td>\n",
       "      <td>0</td>\n",
       "      <td>5</td>\n",
       "      <td>2007</td>\n",
       "      <td>WD</td>\n",
       "      <td>Normal</td>\n",
       "      <td>181500</td>\n",
       "      <td>0</td>\n",
       "      <td>0</td>\n",
       "    </tr>\n",
       "    <tr>\n",
       "      <th>2</th>\n",
       "      <td>3</td>\n",
       "      <td>60</td>\n",
       "      <td>RL</td>\n",
       "      <td>11250</td>\n",
       "      <td>Pave</td>\n",
       "      <td>IR1</td>\n",
       "      <td>Lvl</td>\n",
       "      <td>AllPub</td>\n",
       "      <td>Inside</td>\n",
       "      <td>Gtl</td>\n",
       "      <td>...</td>\n",
       "      <td>0</td>\n",
       "      <td>0</td>\n",
       "      <td>0</td>\n",
       "      <td>9</td>\n",
       "      <td>2008</td>\n",
       "      <td>WD</td>\n",
       "      <td>Normal</td>\n",
       "      <td>223500</td>\n",
       "      <td>0</td>\n",
       "      <td>0</td>\n",
       "    </tr>\n",
       "    <tr>\n",
       "      <th>3</th>\n",
       "      <td>4</td>\n",
       "      <td>70</td>\n",
       "      <td>RL</td>\n",
       "      <td>9550</td>\n",
       "      <td>Pave</td>\n",
       "      <td>IR1</td>\n",
       "      <td>Lvl</td>\n",
       "      <td>AllPub</td>\n",
       "      <td>Corner</td>\n",
       "      <td>Gtl</td>\n",
       "      <td>...</td>\n",
       "      <td>0</td>\n",
       "      <td>0</td>\n",
       "      <td>0</td>\n",
       "      <td>2</td>\n",
       "      <td>2006</td>\n",
       "      <td>WD</td>\n",
       "      <td>Abnorml</td>\n",
       "      <td>140000</td>\n",
       "      <td>0</td>\n",
       "      <td>0</td>\n",
       "    </tr>\n",
       "    <tr>\n",
       "      <th>4</th>\n",
       "      <td>5</td>\n",
       "      <td>60</td>\n",
       "      <td>RL</td>\n",
       "      <td>14260</td>\n",
       "      <td>Pave</td>\n",
       "      <td>IR1</td>\n",
       "      <td>Lvl</td>\n",
       "      <td>AllPub</td>\n",
       "      <td>FR2</td>\n",
       "      <td>Gtl</td>\n",
       "      <td>...</td>\n",
       "      <td>0</td>\n",
       "      <td>0</td>\n",
       "      <td>0</td>\n",
       "      <td>12</td>\n",
       "      <td>2008</td>\n",
       "      <td>WD</td>\n",
       "      <td>Normal</td>\n",
       "      <td>250000</td>\n",
       "      <td>0</td>\n",
       "      <td>0</td>\n",
       "    </tr>\n",
       "  </tbody>\n",
       "</table>\n",
       "<p>5 rows × 77 columns</p>\n",
       "</div>"
      ],
      "text/plain": [
       "   Id  MSSubClass MSZoning  LotArea Street LotShape LandContour Utilities  \\\n",
       "0   1          60       RL     8450   Pave      Reg         Lvl    AllPub   \n",
       "1   2          20       RL     9600   Pave      Reg         Lvl    AllPub   \n",
       "2   3          60       RL    11250   Pave      IR1         Lvl    AllPub   \n",
       "3   4          70       RL     9550   Pave      IR1         Lvl    AllPub   \n",
       "4   5          60       RL    14260   Pave      IR1         Lvl    AllPub   \n",
       "\n",
       "  LotConfig LandSlope   ...   ScreenPorch PoolArea MiscVal MoSold YrSold  \\\n",
       "0    Inside       Gtl   ...             0        0       0      2   2008   \n",
       "1       FR2       Gtl   ...             0        0       0      5   2007   \n",
       "2    Inside       Gtl   ...             0        0       0      9   2008   \n",
       "3    Corner       Gtl   ...             0        0       0      2   2006   \n",
       "4       FR2       Gtl   ...             0        0       0     12   2008   \n",
       "\n",
       "   SaleType  SaleCondition  SalePrice  No_Garage No_Bsmt  \n",
       "0        WD         Normal     208500          0       0  \n",
       "1        WD         Normal     181500          0       0  \n",
       "2        WD         Normal     223500          0       0  \n",
       "3        WD        Abnorml     140000          0       0  \n",
       "4        WD         Normal     250000          0       0  \n",
       "\n",
       "[5 rows x 77 columns]"
      ]
     },
     "execution_count": 21,
     "metadata": {},
     "output_type": "execute_result"
    }
   ],
   "source": [
    "no_garage(traindf, inplace=True)\n",
    "basement_handling(traindf, inplace=True)\n",
    "masvnr_handling(traindf, inplace=True)\n",
    "\n",
    "traindf.head()"
   ]
  },
  {
   "cell_type": "markdown",
   "metadata": {},
   "source": [
    "## Determining Feature Variables"
   ]
  },
  {
   "cell_type": "markdown",
   "metadata": {},
   "source": [
    "Now that we've got missing data out of the way, we need to shift our gaze towards the variables we want to use in our model. Let's get the absolute value of each correlation between the variables and arrange them in order of magnitude so we can see what variables might best be related to `SalePrice`."
   ]
  },
  {
   "cell_type": "code",
   "execution_count": 22,
   "metadata": {},
   "outputs": [
    {
     "data": {
      "text/plain": [
       "OverallQual      0.790982\n",
       "GrLivArea        0.708624\n",
       "GarageCars       0.640409\n",
       "GarageArea       0.623431\n",
       "TotalBsmtSF      0.613581\n",
       "1stFlrSF         0.605852\n",
       "FullBath         0.560664\n",
       "TotRmsAbvGrd     0.533723\n",
       "YearBuilt        0.522897\n",
       "YearRemodAdd     0.507101\n",
       "GarageYrBlt      0.486362\n",
       "MasVnrArea       0.472614\n",
       "Fireplaces       0.466929\n",
       "BsmtFinSF1       0.386420\n",
       "WoodDeckSF       0.324413\n",
       "2ndFlrSF         0.319334\n",
       "OpenPorchSF      0.315856\n",
       "HalfBath         0.284108\n",
       "LotArea          0.263843\n",
       "No_Garage        0.236832\n",
       "BsmtFullBath     0.227122\n",
       "BsmtUnfSF        0.214479\n",
       "BedroomAbvGr     0.168213\n",
       "No_Bsmt          0.152829\n",
       "KitchenAbvGr     0.135907\n",
       "EnclosedPorch    0.128578\n",
       "ScreenPorch      0.111447\n",
       "PoolArea         0.092404\n",
       "MSSubClass       0.084284\n",
       "OverallCond      0.077856\n",
       "MoSold           0.046432\n",
       "3SsnPorch        0.044584\n",
       "YrSold           0.028923\n",
       "LowQualFinSF     0.025606\n",
       "Id               0.021917\n",
       "MiscVal          0.021190\n",
       "BsmtHalfBath     0.016844\n",
       "BsmtFinSF2       0.011378\n",
       "Name: SalePrice, dtype: float64"
      ]
     },
     "execution_count": 22,
     "metadata": {},
     "output_type": "execute_result"
    }
   ],
   "source": [
    "corr_magnitudes = traindf.corr().apply(lambda x: abs(x))['SalePrice'].sort_values(ascending=False)[1:]\n",
    "corr_magnitudes"
   ]
  },
  {
   "cell_type": "markdown",
   "metadata": {},
   "source": [
    "I'm obviously not interested in using all of the variables, especially the ones where the correlation is near zero. The ones I'm most interested in are at the top of the list. To start, let's say I arbitrarily want to have 10 feature variables in my model. I'll keep this data `corr_magnitudes` for later in case I want to add variables.\n",
    "\n",
    "Looking, however at the list, I notice a couple of things. `GarageCars` and `GarageArea` practically tell me the same thing. I can drop one of them. My model is trying to predict selling prices set by humans, and prices are a cause of supply and demand. In making those negotions for selling price, I think a human is a lot more likely to set a price on how many cars a garage can hold rather than it's square footage. While `GarageArea` may afford me a variable with more depth and variability that could tighten confidence intervals in a multivariate analysis, I think `GarageCars` affords me more predictive power. So I'll keep that one.\n",
    "\n",
    "Another thing that is subtle. `TotalBsmtSF` and `1stFlrSF` essentially tell the same story as well. I don't know about you, but my history with houses has been that the basement matches the first floor in terms of square footage. You don't usually have a basement that is bigger or smaller than the first floor. Let's check this hunch by looking at their correlation."
   ]
  },
  {
   "cell_type": "code",
   "execution_count": 23,
   "metadata": {},
   "outputs": [
    {
     "data": {
      "text/plain": [
       "0.8195299750050355"
      ]
     },
     "execution_count": 23,
     "metadata": {},
     "output_type": "execute_result"
    }
   ],
   "source": [
    "traindf.corr()['TotalBsmtSF'].loc['1stFlrSF']"
   ]
  },
  {
   "cell_type": "markdown",
   "metadata": {},
   "source": [
    "It's a bit farther away from one than I thought, so let's graph the two."
   ]
  },
  {
   "cell_type": "code",
   "execution_count": 24,
   "metadata": {},
   "outputs": [
    {
     "data": {
      "text/plain": [
       "<matplotlib.axes._subplots.AxesSubplot at 0x13cc8fd0>"
      ]
     },
     "execution_count": 24,
     "metadata": {},
     "output_type": "execute_result"
    },
    {
     "data": {
      "image/png": "[encoded data removed]",
      "text/plain": [
       "<Figure size 432x288 with 1 Axes>"
      ]
     },
     "metadata": {
      "needs_background": "light"
     },
     "output_type": "display_data"
    }
   ],
   "source": [
    "traindf.plot(x='TotalBsmtSF', y='1stFlrSF', kind='scatter')"
   ]
  },
  {
   "cell_type": "markdown",
   "metadata": {},
   "source": [
    "Looking at this, I notice that my hunch seems to hold _in most, but not all cases_. You can see that linear line coming through the scatterplot. However, there is a number of homes that have first floors that have more square footage than the basement, and even fewer homes that have bigger basements than the first floor. I can calculate how many cases that is, so let's do it real quick before we make a final decision."
   ]
  },
  {
   "cell_type": "code",
   "execution_count": 25,
   "metadata": {},
   "outputs": [
    {
     "data": {
      "text/plain": [
       "719"
      ]
     },
     "execution_count": 25,
     "metadata": {},
     "output_type": "execute_result"
    }
   ],
   "source": [
    "len(traindf[traindf['TotalBsmtSF'] != traindf['1stFlrSF']])"
   ]
  },
  {
   "cell_type": "markdown",
   "metadata": {},
   "source": [
    "That's almost half the cases! Let's keep both.\n",
    "\n",
    "Alright. I think I know what 10 feature variables I want to deal with first. Let's pull the names into a list I can call later, and start looking at the relationships of each of them."
   ]
  },
  {
   "cell_type": "code",
   "execution_count": 26,
   "metadata": {},
   "outputs": [
    {
     "data": {
      "text/plain": [
       "['SalePrice',\n",
       " 'OverallQual',\n",
       " 'GrLivArea',\n",
       " 'GarageCars',\n",
       " 'TotalBsmtSF',\n",
       " '1stFlrSF',\n",
       " 'FullBath',\n",
       " 'TotRmsAbvGrd',\n",
       " 'YearBuilt',\n",
       " 'YearRemodAdd',\n",
       " 'No_Garage']"
      ]
     },
     "execution_count": 26,
     "metadata": {},
     "output_type": "execute_result"
    }
   ],
   "source": [
    "features = corr_magnitudes.index[0:11].tolist()\n",
    "features.remove('GarageArea')\n",
    "features.insert(0, 'SalePrice')\n",
    "features.remove('GarageYrBlt')\n",
    "features.insert(10, 'No_Garage')\n",
    "features"
   ]
  },
  {
   "cell_type": "markdown",
   "metadata": {},
   "source": [
    "## Feature Variable Normalization"
   ]
  },
  {
   "cell_type": "markdown",
   "metadata": {},
   "source": [
    "I'm about to engage in some mathematical transformations of the feature variables that I've chosen. I'm going to keep a running function of the transformations I decide to use in the following function so I can apply it quickly to the test set later:"
   ]
  },
  {
   "cell_type": "code",
   "execution_count": 27,
   "metadata": {},
   "outputs": [],
   "source": [
    "def var_transforms(df, inplace=False, saleprice=True):\n",
    "    copy = df\n",
    "    if saleprice is True:\n",
    "        copy['log_SalePrice'] = np.log(copy['SalePrice'])\n",
    "    copy['log_GrLivArea'] = np.log(copy['GrLivArea'])\n",
    "    copy['sqrt_TotalBsmtSF'] = np.sqrt(copy['TotalBsmtSF'])\n",
    "    copy['log_1stFlrSF'] = np.log(copy['1stFlrSF'])\n",
    "    copy['log_TotRmsAbvGrd'] = np.log(copy['TotRmsAbvGrd'])\n",
    "    copy = copy.join(pd.get_dummies(copy['OverallQual'], prefix='OverallQual', dummy_na=False))\n",
    "    if inplace is False:\n",
    "        return copy\n",
    "    else:\n",
    "        df = copy\n",
    "        return"
   ]
  },
  {
   "cell_type": "markdown",
   "metadata": {},
   "source": [
    "Let's look at SalesPrice and see if it meets the four categories of Hair et al. (2014): Normality, heteroskedasticity, linearity, and absence of correlated errors."
   ]
  },
  {
   "cell_type": "code",
   "execution_count": 28,
   "metadata": {},
   "outputs": [
    {
     "data": {
      "image/png": "[encoded data removed]",
      "text/plain": [
       "<Figure size 432x288 with 1 Axes>"
      ]
     },
     "metadata": {
      "needs_background": "light"
     },
     "output_type": "display_data"
    }
   ],
   "source": [
    "res = scipy.stats.probplot(traindf['SalePrice'], plot=plt)"
   ]
  },
  {
   "cell_type": "markdown",
   "metadata": {},
   "source": [
    "The distribution demonstrates positive skewedness. Let's try a log transformation of `SalePrice`."
   ]
  },
  {
   "cell_type": "code",
   "execution_count": 29,
   "metadata": {},
   "outputs": [
    {
     "data": {
      "image/png": "[encoded data removed]",
      "text/plain": [
       "<Figure size 432x288 with 1 Axes>"
      ]
     },
     "metadata": {
      "needs_background": "light"
     },
     "output_type": "display_data"
    }
   ],
   "source": [
    "traindf['log_SalePrice'] = np.log(traindf['SalePrice'])\n",
    "\n",
    "res = scipy.stats.probplot(traindf['log_SalePrice'], plot=plt)"
   ]
  },
  {
   "cell_type": "markdown",
   "metadata": {},
   "source": [
    "I'm good with that! Let's move on to `OverallQual`."
   ]
  },
  {
   "cell_type": "code",
   "execution_count": 30,
   "metadata": {},
   "outputs": [
    {
     "data": {
      "image/png": "[encoded data removed]",
      "text/plain": [
       "<Figure size 432x288 with 1 Axes>"
      ]
     },
     "metadata": {
      "needs_background": "light"
     },
     "output_type": "display_data"
    },
    {
     "data": {
      "image/png": "[encoded data removed]",
      "text/plain": [
       "<Figure size 432x288 with 1 Axes>"
      ]
     },
     "metadata": {
      "needs_background": "light"
     },
     "output_type": "display_data"
    }
   ],
   "source": [
    "sns.distplot(traindf['OverallQual'], fit=scipy.stats.norm);\n",
    "fig = plt.figure()\n",
    "res = scipy.stats.probplot(traindf['OverallQual'], plot=plt)"
   ]
  },
  {
   "cell_type": "markdown",
   "metadata": {},
   "source": [
    "With categorical data, I'm most worried about heteroskedasticity. It doesn't look like the case here. No transformation needed, and I'll be fine breaking that into dummies. Let's move on."
   ]
  },
  {
   "cell_type": "code",
   "execution_count": 31,
   "metadata": {},
   "outputs": [
    {
     "data": {
      "image/png": "[encoded data removed]",
      "text/plain": [
       "<Figure size 432x288 with 1 Axes>"
      ]
     },
     "metadata": {
      "needs_background": "light"
     },
     "output_type": "display_data"
    }
   ],
   "source": [
    "res = scipy.stats.probplot(traindf['GrLivArea'], plot=plt)"
   ]
  },
  {
   "cell_type": "markdown",
   "metadata": {},
   "source": [
    "Seems like `GrLivArea` is a similar case to `SalePrice`. I'll apply a log transformation."
   ]
  },
  {
   "cell_type": "code",
   "execution_count": 32,
   "metadata": {},
   "outputs": [
    {
     "data": {
      "image/png": "[encoded data removed]",
      "text/plain": [
       "<Figure size 432x288 with 1 Axes>"
      ]
     },
     "metadata": {
      "needs_background": "light"
     },
     "output_type": "display_data"
    }
   ],
   "source": [
    "traindf['log_GrLivArea'] = np.log(traindf['GrLivArea'])\n",
    "\n",
    "res = scipy.stats.probplot(traindf['log_GrLivArea'], plot=plt)"
   ]
  },
  {
   "cell_type": "markdown",
   "metadata": {},
   "source": [
    "Looks good! Onto `GarageCars`."
   ]
  },
  {
   "cell_type": "code",
   "execution_count": 33,
   "metadata": {},
   "outputs": [
    {
     "data": {
      "image/png": "[encoded data removed]",
      "text/plain": [
       "<Figure size 432x288 with 1 Axes>"
      ]
     },
     "metadata": {
      "needs_background": "light"
     },
     "output_type": "display_data"
    },
    {
     "data": {
      "image/png": "[encoded data removed]",
      "text/plain": [
       "<Figure size 432x288 with 1 Axes>"
      ]
     },
     "metadata": {
      "needs_background": "light"
     },
     "output_type": "display_data"
    }
   ],
   "source": [
    "sns.distplot(traindf['GarageCars'], fit=scipy.stats.norm);\n",
    "fig = plt.figure()\n",
    "res = scipy.stats.probplot(traindf['GarageCars'], plot=plt)"
   ]
  },
  {
   "cell_type": "markdown",
   "metadata": {},
   "source": [
    "Looks fine. Since it's already numerical, I don't need to do a transformation on it."
   ]
  },
  {
   "cell_type": "code",
   "execution_count": 34,
   "metadata": {},
   "outputs": [
    {
     "data": {
      "image/png": "[encoded data removed]",
      "text/plain": [
       "<Figure size 432x288 with 1 Axes>"
      ]
     },
     "metadata": {
      "needs_background": "light"
     },
     "output_type": "display_data"
    }
   ],
   "source": [
    "res = scipy.stats.probplot(traindf['TotalBsmtSF'], plot=plt)"
   ]
  },
  {
   "cell_type": "markdown",
   "metadata": {},
   "source": [
    "There's a lot of zeros here, but it looks like I'll want to apply a log transformation generally. I can use numpy's `.log1p()` method to take care of zeros so they don't mess up the math."
   ]
  },
  {
   "cell_type": "code",
   "execution_count": 35,
   "metadata": {},
   "outputs": [
    {
     "data": {
      "image/png": "[encoded data removed]",
      "text/plain": [
       "<Figure size 432x288 with 1 Axes>"
      ]
     },
     "metadata": {
      "needs_background": "light"
     },
     "output_type": "display_data"
    }
   ],
   "source": [
    "traindf['log1_TotalBsmtSF'] = np.log1p(traindf['TotalBsmtSF'])\n",
    "\n",
    "res = scipy.stats.probplot(traindf['log1_TotalBsmtSF'], plot=plt)"
   ]
  },
  {
   "cell_type": "markdown",
   "metadata": {},
   "source": [
    "Ehhhhh, I don't like that. Let's try a square root transformation."
   ]
  },
  {
   "cell_type": "code",
   "execution_count": 36,
   "metadata": {},
   "outputs": [
    {
     "data": {
      "image/png": "[encoded data removed]",
      "text/plain": [
       "<Figure size 432x288 with 1 Axes>"
      ]
     },
     "metadata": {
      "needs_background": "light"
     },
     "output_type": "display_data"
    }
   ],
   "source": [
    "traindf['sqrt_TotalBsmtSF'] = np.sqrt(traindf['TotalBsmtSF'])\n",
    "\n",
    "res = scipy.stats.probplot(traindf['sqrt_TotalBsmtSF'], plot=plt)"
   ]
  },
  {
   "cell_type": "markdown",
   "metadata": {},
   "source": [
    "I like that a bit more than what I originally had! Let's continue to `1stFlrSF`."
   ]
  },
  {
   "cell_type": "code",
   "execution_count": 37,
   "metadata": {},
   "outputs": [
    {
     "data": {
      "image/png": "[encoded data removed]",
      "text/plain": [
       "<Figure size 432x288 with 1 Axes>"
      ]
     },
     "metadata": {
      "needs_background": "light"
     },
     "output_type": "display_data"
    }
   ],
   "source": [
    "res = scipy.stats.probplot(traindf['1stFlrSF'], plot=plt)"
   ]
  },
  {
   "cell_type": "markdown",
   "metadata": {},
   "source": [
    "Log transformation."
   ]
  },
  {
   "cell_type": "code",
   "execution_count": 38,
   "metadata": {},
   "outputs": [
    {
     "data": {
      "image/png": "[encoded data removed]",
      "text/plain": [
       "<Figure size 432x288 with 1 Axes>"
      ]
     },
     "metadata": {
      "needs_background": "light"
     },
     "output_type": "display_data"
    }
   ],
   "source": [
    "traindf['log_1stFlrSF'] = np.log(traindf['1stFlrSF'])\n",
    "\n",
    "res = scipy.stats.probplot(traindf['log_1stFlrSF'], plot=plt)"
   ]
  },
  {
   "cell_type": "code",
   "execution_count": 39,
   "metadata": {},
   "outputs": [
    {
     "data": {
      "image/png": "[encoded data removed]",
      "text/plain": [
       "<Figure size 432x288 with 1 Axes>"
      ]
     },
     "metadata": {
      "needs_background": "light"
     },
     "output_type": "display_data"
    },
    {
     "data": {
      "image/png": "[encoded data removed]",
      "text/plain": [
       "<Figure size 432x288 with 1 Axes>"
      ]
     },
     "metadata": {
      "needs_background": "light"
     },
     "output_type": "display_data"
    }
   ],
   "source": [
    "sns.distplot(traindf['FullBath'], fit=scipy.stats.norm);\n",
    "fig = plt.figure()\n",
    "res = scipy.stats.probplot(traindf['FullBath'], plot=plt)"
   ]
  },
  {
   "cell_type": "markdown",
   "metadata": {},
   "source": [
    "I'm going to leave this one alone since the data barely varies."
   ]
  },
  {
   "cell_type": "code",
   "execution_count": 40,
   "metadata": {},
   "outputs": [
    {
     "data": {
      "image/png": "[encoded data removed]",
      "text/plain": [
       "<Figure size 432x288 with 1 Axes>"
      ]
     },
     "metadata": {
      "needs_background": "light"
     },
     "output_type": "display_data"
    },
    {
     "data": {
      "image/png": "[encoded data removed]",
      "text/plain": [
       "<Figure size 432x288 with 1 Axes>"
      ]
     },
     "metadata": {
      "needs_background": "light"
     },
     "output_type": "display_data"
    }
   ],
   "source": [
    "sns.distplot(traindf['TotRmsAbvGrd'], fit=scipy.stats.norm);\n",
    "fig = plt.figure()\n",
    "res = scipy.stats.probplot(traindf['TotRmsAbvGrd'], plot=plt)"
   ]
  },
  {
   "cell_type": "markdown",
   "metadata": {},
   "source": [
    "Positive skewedness. Let's log it."
   ]
  },
  {
   "cell_type": "code",
   "execution_count": 41,
   "metadata": {},
   "outputs": [
    {
     "data": {
      "image/png": "[encoded data removed]",
      "text/plain": [
       "<Figure size 432x288 with 1 Axes>"
      ]
     },
     "metadata": {
      "needs_background": "light"
     },
     "output_type": "display_data"
    }
   ],
   "source": [
    "traindf['log_TotRmsAbvGrd'] = np.log(traindf['TotRmsAbvGrd'])\n",
    "\n",
    "res = scipy.stats.probplot(traindf['log_TotRmsAbvGrd'], plot=plt)"
   ]
  },
  {
   "cell_type": "markdown",
   "metadata": {},
   "source": [
    "Great!\n",
    "\n",
    "I'm not going to modify any of the year data since, in theory, it's about evenly distributed and should stand for itself-- not some transformation. I don't think transformations won't do much to add to predictive power. So yeah, I'll leave it alone."
   ]
  },
  {
   "cell_type": "markdown",
   "metadata": {},
   "source": [
    "## Modeling"
   ]
  },
  {
   "cell_type": "markdown",
   "metadata": {},
   "source": [
    "### 1) Linear Regression"
   ]
  },
  {
   "cell_type": "markdown",
   "metadata": {},
   "source": [
    "Let's start with just a simple linear regression model to see what my root mean squared error would be."
   ]
  },
  {
   "cell_type": "code",
   "execution_count": 42,
   "metadata": {},
   "outputs": [
    {
     "data": {
      "text/html": [
       "<div>\n",
       "<style scoped>\n",
       "    .dataframe tbody tr th:only-of-type {\n",
       "        vertical-align: middle;\n",
       "    }\n",
       "\n",
       "    .dataframe tbody tr th {\n",
       "        vertical-align: top;\n",
       "    }\n",
       "\n",
       "    .dataframe thead th {\n",
       "        text-align: right;\n",
       "    }\n",
       "</style>\n",
       "<table border=\"1\" class=\"dataframe\">\n",
       "  <thead>\n",
       "    <tr style=\"text-align: right;\">\n",
       "      <th></th>\n",
       "      <th>log_SalePrice</th>\n",
       "      <th>log_GrLivArea</th>\n",
       "      <th>GarageCars</th>\n",
       "      <th>sqrt_TotalBsmtSF</th>\n",
       "      <th>log_1stFlrSF</th>\n",
       "      <th>FullBath</th>\n",
       "      <th>log_TotRmsAbvGrd</th>\n",
       "      <th>YearBuilt</th>\n",
       "      <th>YearRemodAdd</th>\n",
       "      <th>No_Garage</th>\n",
       "      <th>OverallQual_1</th>\n",
       "      <th>OverallQual_2</th>\n",
       "      <th>OverallQual_3</th>\n",
       "      <th>OverallQual_4</th>\n",
       "      <th>OverallQual_5</th>\n",
       "      <th>OverallQual_6</th>\n",
       "      <th>OverallQual_7</th>\n",
       "      <th>OverallQual_8</th>\n",
       "      <th>OverallQual_9</th>\n",
       "      <th>OverallQual_10</th>\n",
       "    </tr>\n",
       "  </thead>\n",
       "  <tbody>\n",
       "    <tr>\n",
       "      <th>0</th>\n",
       "      <td>12.247694</td>\n",
       "      <td>7.444249</td>\n",
       "      <td>2</td>\n",
       "      <td>29.257478</td>\n",
       "      <td>6.752270</td>\n",
       "      <td>2</td>\n",
       "      <td>2.079442</td>\n",
       "      <td>2003</td>\n",
       "      <td>2003</td>\n",
       "      <td>0</td>\n",
       "      <td>0</td>\n",
       "      <td>0</td>\n",
       "      <td>0</td>\n",
       "      <td>0</td>\n",
       "      <td>0</td>\n",
       "      <td>0</td>\n",
       "      <td>1</td>\n",
       "      <td>0</td>\n",
       "      <td>0</td>\n",
       "      <td>0</td>\n",
       "    </tr>\n",
       "    <tr>\n",
       "      <th>1</th>\n",
       "      <td>12.109011</td>\n",
       "      <td>7.140453</td>\n",
       "      <td>2</td>\n",
       "      <td>35.524639</td>\n",
       "      <td>7.140453</td>\n",
       "      <td>2</td>\n",
       "      <td>1.791759</td>\n",
       "      <td>1976</td>\n",
       "      <td>1976</td>\n",
       "      <td>0</td>\n",
       "      <td>0</td>\n",
       "      <td>0</td>\n",
       "      <td>0</td>\n",
       "      <td>0</td>\n",
       "      <td>0</td>\n",
       "      <td>1</td>\n",
       "      <td>0</td>\n",
       "      <td>0</td>\n",
       "      <td>0</td>\n",
       "      <td>0</td>\n",
       "    </tr>\n",
       "    <tr>\n",
       "      <th>2</th>\n",
       "      <td>12.317167</td>\n",
       "      <td>7.487734</td>\n",
       "      <td>2</td>\n",
       "      <td>30.331502</td>\n",
       "      <td>6.824374</td>\n",
       "      <td>2</td>\n",
       "      <td>1.791759</td>\n",
       "      <td>2001</td>\n",
       "      <td>2002</td>\n",
       "      <td>0</td>\n",
       "      <td>0</td>\n",
       "      <td>0</td>\n",
       "      <td>0</td>\n",
       "      <td>0</td>\n",
       "      <td>0</td>\n",
       "      <td>0</td>\n",
       "      <td>1</td>\n",
       "      <td>0</td>\n",
       "      <td>0</td>\n",
       "      <td>0</td>\n",
       "    </tr>\n",
       "    <tr>\n",
       "      <th>3</th>\n",
       "      <td>11.849398</td>\n",
       "      <td>7.448334</td>\n",
       "      <td>3</td>\n",
       "      <td>27.495454</td>\n",
       "      <td>6.867974</td>\n",
       "      <td>1</td>\n",
       "      <td>1.945910</td>\n",
       "      <td>1915</td>\n",
       "      <td>1970</td>\n",
       "      <td>0</td>\n",
       "      <td>0</td>\n",
       "      <td>0</td>\n",
       "      <td>0</td>\n",
       "      <td>0</td>\n",
       "      <td>0</td>\n",
       "      <td>0</td>\n",
       "      <td>1</td>\n",
       "      <td>0</td>\n",
       "      <td>0</td>\n",
       "      <td>0</td>\n",
       "    </tr>\n",
       "    <tr>\n",
       "      <th>4</th>\n",
       "      <td>12.429216</td>\n",
       "      <td>7.695303</td>\n",
       "      <td>3</td>\n",
       "      <td>33.837849</td>\n",
       "      <td>7.043160</td>\n",
       "      <td>2</td>\n",
       "      <td>2.197225</td>\n",
       "      <td>2000</td>\n",
       "      <td>2000</td>\n",
       "      <td>0</td>\n",
       "      <td>0</td>\n",
       "      <td>0</td>\n",
       "      <td>0</td>\n",
       "      <td>0</td>\n",
       "      <td>0</td>\n",
       "      <td>0</td>\n",
       "      <td>0</td>\n",
       "      <td>1</td>\n",
       "      <td>0</td>\n",
       "      <td>0</td>\n",
       "    </tr>\n",
       "  </tbody>\n",
       "</table>\n",
       "</div>"
      ],
      "text/plain": [
       "   log_SalePrice  log_GrLivArea  GarageCars  sqrt_TotalBsmtSF  log_1stFlrSF  \\\n",
       "0      12.247694       7.444249           2         29.257478      6.752270   \n",
       "1      12.109011       7.140453           2         35.524639      7.140453   \n",
       "2      12.317167       7.487734           2         30.331502      6.824374   \n",
       "3      11.849398       7.448334           3         27.495454      6.867974   \n",
       "4      12.429216       7.695303           3         33.837849      7.043160   \n",
       "\n",
       "   FullBath  log_TotRmsAbvGrd  YearBuilt  YearRemodAdd  No_Garage  \\\n",
       "0         2          2.079442       2003          2003          0   \n",
       "1         2          1.791759       1976          1976          0   \n",
       "2         2          1.791759       2001          2002          0   \n",
       "3         1          1.945910       1915          1970          0   \n",
       "4         2          2.197225       2000          2000          0   \n",
       "\n",
       "   OverallQual_1  OverallQual_2  OverallQual_3  OverallQual_4  OverallQual_5  \\\n",
       "0              0              0              0              0              0   \n",
       "1              0              0              0              0              0   \n",
       "2              0              0              0              0              0   \n",
       "3              0              0              0              0              0   \n",
       "4              0              0              0              0              0   \n",
       "\n",
       "   OverallQual_6  OverallQual_7  OverallQual_8  OverallQual_9  OverallQual_10  \n",
       "0              0              1              0              0               0  \n",
       "1              1              0              0              0               0  \n",
       "2              0              1              0              0               0  \n",
       "3              0              1              0              0               0  \n",
       "4              0              0              1              0               0  "
      ]
     },
     "execution_count": 42,
     "metadata": {},
     "output_type": "execute_result"
    }
   ],
   "source": [
    "train_transformed = var_transforms(traindf, inplace=False)\n",
    "\n",
    "model_1 = train_transformed[['log_SalePrice', 'log_GrLivArea', 'GarageCars', 'sqrt_TotalBsmtSF', 'log_1stFlrSF', 'FullBath', 'log_TotRmsAbvGrd', 'YearBuilt', 'YearRemodAdd', 'No_Garage']].join(train_transformed.filter(like='OverallQual_'))\n",
    "model_1.head()"
   ]
  },
  {
   "cell_type": "code",
   "execution_count": 43,
   "metadata": {},
   "outputs": [
    {
     "data": {
      "text/plain": [
       "0.025273229064736048"
      ]
     },
     "execution_count": 43,
     "metadata": {},
     "output_type": "execute_result"
    }
   ],
   "source": [
    "target_1 = model_1['log_SalePrice'].values\n",
    "features_1 = model_1.drop('log_SalePrice', axis=1).values\n",
    "\n",
    "linearmodel = linear_model.LinearRegression()\n",
    "linearmodel.fit(features_1, target_1)\n",
    "predictions = linearmodel.predict(features_1)\n",
    "sklearn.metrics.mean_squared_error(target_1, predictions)"
   ]
  },
  {
   "cell_type": "markdown",
   "metadata": {},
   "source": [
    "Fairly good. Let's apply this to the test set, clean it up, and export it to Kaggle. I'll let you know what my score was when I submit this first one."
   ]
  },
  {
   "cell_type": "code",
   "execution_count": 44,
   "metadata": {},
   "outputs": [],
   "source": [
    "test_1 = no_garage(testdf, inplace=False)\n",
    "test_1 = basement_handling(test_1, inplace=False)\n",
    "test_1 = masvnr_handling(test_1, inplace=False)\n",
    "test_1 = var_transforms(test_1, inplace=False, saleprice=False)\n",
    "\n",
    "test_1_set = test_1[['log_GrLivArea', 'GarageCars', 'sqrt_TotalBsmtSF', 'log_1stFlrSF', 'FullBath', 'log_TotRmsAbvGrd', 'YearBuilt', 'YearRemodAdd', 'No_Garage']].join(test_1.filter(like='OverallQual_'))\n",
    "\n",
    "# test_pred = linearmodel.predict(test_1_set.values) ###THIS THROWS A ValueError DUE TO np.nan VALUES.###"
   ]
  },
  {
   "cell_type": "markdown",
   "metadata": {},
   "source": [
    "I wasn't expecting to encounter `np.nan` values in my test set. I'm going to fill `np.nan` values with the mean of the column so as to not throw off the regression as much as I would if I filled it with a zero. My transformations should've taken care of the most troublesome `np.nan` values already."
   ]
  },
  {
   "cell_type": "code",
   "execution_count": 45,
   "metadata": {},
   "outputs": [],
   "source": [
    "test_1_set.fillna(test_1_set.mean(), inplace=True)\n",
    "\n",
    "test_pred = linearmodel.predict(test_1_set.values)\n",
    "test_pred = np.exp(test_pred)\n",
    "to_kaggle = pd.DataFrame(data=test_pred, columns=['SalePrice']).join(test_1['Id'])\n",
    "to_kaggle = to_kaggle[['Id', 'SalePrice']]\n",
    "to_kaggle.to_csv('submission1.csv', index=False, header=True)"
   ]
  },
  {
   "cell_type": "markdown",
   "metadata": {},
   "source": [
    "After submitting this model to Kaggle, my score was a __0.15710__. Pretty good for a first try! However, if this score is root mean squared error, it was probably a little bit of luck since my training set RMSE is significantly higher."
   ]
  },
  {
   "cell_type": "markdown",
   "metadata": {},
   "source": [
    "### 2) Linear Regression + Interaction Terms"
   ]
  },
  {
   "cell_type": "markdown",
   "metadata": {},
   "source": [
    "I like this set of data that I got. Let's try controlling with _just_ interaction terms since I've already normalized the features how I like it. I'll use the `PolynomialFeatures` class from sklearn."
   ]
  },
  {
   "cell_type": "code",
   "execution_count": 46,
   "metadata": {},
   "outputs": [
    {
     "data": {
      "text/plain": [
       "0.01881915896287942"
      ]
     },
     "execution_count": 46,
     "metadata": {},
     "output_type": "execute_result"
    }
   ],
   "source": [
    "poly_obj = sklearn.preprocessing.PolynomialFeatures(degree=2, interaction_only=True)\n",
    "features_2 = poly_obj.fit_transform(features_1)\n",
    "linearmodel_2 = sklearn.linear_model.LinearRegression()\n",
    "linearmodel_2.fit(features_2, target_1)\n",
    "predictions = linearmodel_2.predict(features_2)\n",
    "sklearn.metrics.mean_squared_error(target_1, predictions)"
   ]
  },
  {
   "cell_type": "markdown",
   "metadata": {},
   "source": [
    "Holy cow, that's a lot lower. Let's get a test set ready to go and submit it to Kaggle."
   ]
  },
  {
   "cell_type": "code",
   "execution_count": 47,
   "metadata": {},
   "outputs": [],
   "source": [
    "test_2 = no_garage(testdf, inplace=False)\n",
    "test_2 = basement_handling(test_2, inplace=False)\n",
    "test_2 = masvnr_handling(test_2, inplace=False)\n",
    "test_2 = var_transforms(test_2, inplace=False, saleprice=False)\n",
    "\n",
    "test_2_set = test_2[['log_GrLivArea', 'GarageCars', 'sqrt_TotalBsmtSF', 'log_1stFlrSF', 'FullBath', 'log_TotRmsAbvGrd', 'YearBuilt', 'YearRemodAdd', 'No_Garage']].join(test_1.filter(like='OverallQual_'))\n",
    "\n",
    "test_2_set.fillna(test_2_set.mean(), inplace=True)\n",
    "\n",
    "test_2_set = poly_obj.fit_transform(test_2_set.values)\n",
    "\n",
    "test_pred = linearmodel_2.predict(test_2_set)\n",
    "test_pred = np.exp(test_pred)\n",
    "to_kaggle = pd.DataFrame(data=test_pred, columns=['SalePrice']).join(test_1['Id'])\n",
    "to_kaggle = to_kaggle[['Id', 'SalePrice']]\n",
    "to_kaggle.to_csv('submission2.csv', index=False, header=True)"
   ]
  },
  {
   "cell_type": "markdown",
   "metadata": {},
   "source": [
    "Danggit. It scored lower: __0.17279__. I was probably overfitting a bit with all the interaction terms."
   ]
  },
  {
   "cell_type": "markdown",
   "metadata": {},
   "source": [
    "### 3) Lasso Regression + Interaction Terms"
   ]
  },
  {
   "cell_type": "markdown",
   "metadata": {},
   "source": [
    "I am interested in using the interaction terms where they're justified, however (Since some of the terms are interrelated), so maybe a Lasso regression might take terms to zero that don't matter so I don't overfit."
   ]
  },
  {
   "cell_type": "code",
   "execution_count": 48,
   "metadata": {},
   "outputs": [
    {
     "data": {
      "text/plain": [
       "0.025730782750291614"
      ]
     },
     "execution_count": 48,
     "metadata": {},
     "output_type": "execute_result"
    }
   ],
   "source": [
    "linearmodel_3 = sklearn.linear_model.Lasso(alpha=1)\n",
    "linearmodel_3.fit(features_2, target_1)\n",
    "predictions = linearmodel_3.predict(features_2)\n",
    "sklearn.metrics.mean_squared_error(target_1, predictions)"
   ]
  },
  {
   "cell_type": "markdown",
   "metadata": {},
   "source": [
    "It's higher than before, but this is on a training set, so I'm okay with that. Let's prepare a submission."
   ]
  },
  {
   "cell_type": "code",
   "execution_count": 49,
   "metadata": {},
   "outputs": [],
   "source": [
    "test_pred = linearmodel_3.predict(test_2_set)\n",
    "test_pred = np.exp(test_pred)\n",
    "to_kaggle = pd.DataFrame(data=test_pred, columns=['SalePrice']).join(test_1['Id'])\n",
    "to_kaggle = to_kaggle[['Id', 'SalePrice']]\n",
    "to_kaggle.to_csv('submission3.csv', index=False, header=True)"
   ]
  },
  {
   "cell_type": "markdown",
   "metadata": {},
   "source": [
    "That scored __0.16409__. Worst than my first attempt, but better than the last attempt. All my regressions are sitting fairly close to each other!"
   ]
  },
  {
   "cell_type": "markdown",
   "metadata": {},
   "source": [
    "### 4) K Nearest Neighbors"
   ]
  },
  {
   "cell_type": "markdown",
   "metadata": {},
   "source": [
    "I'm out of options here. Let's give K Nearest Neighbors a try without the interaction terms."
   ]
  },
  {
   "cell_type": "code",
   "execution_count": 50,
   "metadata": {},
   "outputs": [
    {
     "data": {
      "text/plain": [
       "1332618050.939726"
      ]
     },
     "execution_count": 50,
     "metadata": {},
     "output_type": "execute_result"
    }
   ],
   "source": [
    "target_4 = traindf['SalePrice'].values\n",
    "\n",
    "model_4 = sklearn.neighbors.KNeighborsClassifier()\n",
    "gridsearch = sklearn.model_selection.GridSearchCV(model_4, {\"n_neighbors\": list(range(1,21)), \"weights\": ['uniform', 'distance'], 'p': [1, 2]}, scoring='f1_micro')\n",
    "gridsearch.fit(features_1, target_4)\n",
    "predictions = gridsearch.predict(features_1)\n",
    "sklearn.metrics.mean_squared_error(target_4, predictions)"
   ]
  },
  {
   "cell_type": "markdown",
   "metadata": {},
   "source": [
    "That's ridiculously high. I don't even think that's worth submitting. But heck. Let's do it. We got nothing to lose."
   ]
  },
  {
   "cell_type": "code",
   "execution_count": 51,
   "metadata": {},
   "outputs": [],
   "source": [
    "test_pred = gridsearch.predict(test_1_set)\n",
    "to_kaggle = pd.DataFrame(data=test_pred, columns=['SalePrice']).join(test_1['Id'])\n",
    "to_kaggle = to_kaggle[['Id', 'SalePrice']]\n",
    "to_kaggle.to_csv('submission4.csv', index=False, header=True)"
   ]
  },
  {
   "cell_type": "markdown",
   "metadata": {},
   "source": [
    "My kaggle score there was __0.27227__. My worst one."
   ]
  },
  {
   "cell_type": "markdown",
   "metadata": {},
   "source": [
    "## Conclusion"
   ]
  },
  {
   "cell_type": "markdown",
   "metadata": {},
   "source": [
    "In the end, I recommend the first model that I produced, which is the bare-bones linear regression model with the terms normalized in the way I did. The reason why I suggest it is because I spent a lot of time fine-tuning the variables of the model so that they would fit well with the assumptions of linear regression, and I think they performed well. I tried adding a few transforms of the features that we already had, but that caused overfitting more than anything. So I would normalize any future data like I did, and simply run it through a standard linear regression. It was the best model in predicting out of sample out of all four I tried."
   ]
  }
 ],
 "metadata": {
  "kernelspec": {
   "display_name": "Python 3",
   "language": "python",
   "name": "python3"
  },
  "language_info": {
   "codemirror_mode": {
    "name": "ipython",
    "version": 3
   },
   "file_extension": ".py",
   "mimetype": "text/x-python",
   "name": "python",
   "nbconvert_exporter": "python",
   "pygments_lexer": "ipython3",
   "version": "3.7.2"
  }
 },
 "nbformat": 4,
 "nbformat_minor": 2
}
