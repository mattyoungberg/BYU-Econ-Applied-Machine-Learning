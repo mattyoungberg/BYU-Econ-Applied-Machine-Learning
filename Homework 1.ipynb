{
 "cells": [
  {
   "cell_type": "markdown",
   "metadata": {},
   "source": [
    "### Imports"
   ]
  },
  {
   "cell_type": "code",
   "execution_count": 1,
   "metadata": {},
   "outputs": [],
   "source": [
    "import pandas as pd\n",
    "import numpy as np\n",
    "import matplotlib.pyplot as plt\n",
    "import matplotlib.dates as mdates\n",
    "import matplotlib.ticker as ticker\n",
    "import requests\n",
    "import datetime\n",
    "import pytz\n",
    "import sqlite3\n",
    "%matplotlib inline"
   ]
  },
  {
   "cell_type": "markdown",
   "metadata": {},
   "source": [
    "# Data Source: SQLITE Database"
   ]
  },
  {
   "cell_type": "code",
   "execution_count": 2,
   "metadata": {},
   "outputs": [],
   "source": [
    "conn = sqlite3.connect('database.sqlite')\n",
    "command = 'SELECT * FROM BoardGames'\n",
    "board_games = pd.read_sql(command, conn)"
   ]
  },
  {
   "cell_type": "markdown",
   "metadata": {},
   "source": [
    "##### After mulling through the data, we thought that an interesting question to answer would be \"What number of people should you invite to a party to allow you the broadest access to boardgames in this dataset?\" We will take the columns `details.minplayers` and `details.maxplayers` and do some logical analyses at various values to find our answer."
   ]
  },
  {
   "cell_type": "code",
   "execution_count": 3,
   "metadata": {},
   "outputs": [
    {
     "data": {
      "text/html": [
       "<div>\n",
       "<style scoped>\n",
       "    .dataframe tbody tr th:only-of-type {\n",
       "        vertical-align: middle;\n",
       "    }\n",
       "\n",
       "    .dataframe tbody tr th {\n",
       "        vertical-align: top;\n",
       "    }\n",
       "\n",
       "    .dataframe thead th {\n",
       "        text-align: right;\n",
       "    }\n",
       "</style>\n",
       "<table border=\"1\" class=\"dataframe\">\n",
       "  <thead>\n",
       "    <tr style=\"text-align: right;\">\n",
       "      <th></th>\n",
       "      <th>game.id</th>\n",
       "      <th>details.minplayers</th>\n",
       "      <th>details.maxplayers</th>\n",
       "    </tr>\n",
       "  </thead>\n",
       "  <tbody>\n",
       "    <tr>\n",
       "      <th>0</th>\n",
       "      <td>1</td>\n",
       "      <td>3.0</td>\n",
       "      <td>5.0</td>\n",
       "    </tr>\n",
       "    <tr>\n",
       "      <th>1</th>\n",
       "      <td>2</td>\n",
       "      <td>3.0</td>\n",
       "      <td>4.0</td>\n",
       "    </tr>\n",
       "    <tr>\n",
       "      <th>2</th>\n",
       "      <td>3</td>\n",
       "      <td>2.0</td>\n",
       "      <td>4.0</td>\n",
       "    </tr>\n",
       "    <tr>\n",
       "      <th>3</th>\n",
       "      <td>4</td>\n",
       "      <td>2.0</td>\n",
       "      <td>4.0</td>\n",
       "    </tr>\n",
       "    <tr>\n",
       "      <th>4</th>\n",
       "      <td>5</td>\n",
       "      <td>3.0</td>\n",
       "      <td>6.0</td>\n",
       "    </tr>\n",
       "  </tbody>\n",
       "</table>\n",
       "</div>"
      ],
      "text/plain": [
       "  game.id  details.minplayers  details.maxplayers\n",
       "0       1                 3.0                 5.0\n",
       "1       2                 3.0                 4.0\n",
       "2       3                 2.0                 4.0\n",
       "3       4                 2.0                 4.0\n",
       "4       5                 3.0                 6.0"
      ]
     },
     "execution_count": 3,
     "metadata": {},
     "output_type": "execute_result"
    }
   ],
   "source": [
    "players = board_games[['game.id', 'details.minplayers', 'details.maxplayers']]\n",
    "players.head()"
   ]
  },
  {
   "cell_type": "markdown",
   "metadata": {},
   "source": [
    "##### When looking at NaN values on our `details.minplayers` series, we find 3 games. It looks like it's missing the corresponding information for the series `details.maxplayers`."
   ]
  },
  {
   "cell_type": "code",
   "execution_count": 4,
   "metadata": {},
   "outputs": [
    {
     "data": {
      "text/html": [
       "<div>\n",
       "<style scoped>\n",
       "    .dataframe tbody tr th:only-of-type {\n",
       "        vertical-align: middle;\n",
       "    }\n",
       "\n",
       "    .dataframe tbody tr th {\n",
       "        vertical-align: top;\n",
       "    }\n",
       "\n",
       "    .dataframe thead th {\n",
       "        text-align: right;\n",
       "    }\n",
       "</style>\n",
       "<table border=\"1\" class=\"dataframe\">\n",
       "  <thead>\n",
       "    <tr style=\"text-align: right;\">\n",
       "      <th></th>\n",
       "      <th>game.id</th>\n",
       "      <th>details.minplayers</th>\n",
       "      <th>details.maxplayers</th>\n",
       "    </tr>\n",
       "  </thead>\n",
       "  <tbody>\n",
       "    <tr>\n",
       "      <th>40857</th>\n",
       "      <td>53344</td>\n",
       "      <td>NaN</td>\n",
       "      <td>NaN</td>\n",
       "    </tr>\n",
       "    <tr>\n",
       "      <th>40954</th>\n",
       "      <td>54165</td>\n",
       "      <td>NaN</td>\n",
       "      <td>NaN</td>\n",
       "    </tr>\n",
       "    <tr>\n",
       "      <th>41523</th>\n",
       "      <td>57161</td>\n",
       "      <td>NaN</td>\n",
       "      <td>NaN</td>\n",
       "    </tr>\n",
       "  </tbody>\n",
       "</table>\n",
       "</div>"
      ],
      "text/plain": [
       "      game.id  details.minplayers  details.maxplayers\n",
       "40857   53344                 NaN                 NaN\n",
       "40954   54165                 NaN                 NaN\n",
       "41523   57161                 NaN                 NaN"
      ]
     },
     "execution_count": 4,
     "metadata": {},
     "output_type": "execute_result"
    }
   ],
   "source": [
    "players.loc[players['details.minplayers'].isnull()]"
   ]
  },
  {
   "cell_type": "markdown",
   "metadata": {},
   "source": [
    "##### Let's use the same method, but call the series `details.maxplayers`, just to make sure there aren't any games with values for `details.minplayers` but lack values for `details.maxplayers`."
   ]
  },
  {
   "cell_type": "code",
   "execution_count": 5,
   "metadata": {},
   "outputs": [
    {
     "data": {
      "text/html": [
       "<div>\n",
       "<style scoped>\n",
       "    .dataframe tbody tr th:only-of-type {\n",
       "        vertical-align: middle;\n",
       "    }\n",
       "\n",
       "    .dataframe tbody tr th {\n",
       "        vertical-align: top;\n",
       "    }\n",
       "\n",
       "    .dataframe thead th {\n",
       "        text-align: right;\n",
       "    }\n",
       "</style>\n",
       "<table border=\"1\" class=\"dataframe\">\n",
       "  <thead>\n",
       "    <tr style=\"text-align: right;\">\n",
       "      <th></th>\n",
       "      <th>game.id</th>\n",
       "      <th>details.minplayers</th>\n",
       "      <th>details.maxplayers</th>\n",
       "    </tr>\n",
       "  </thead>\n",
       "  <tbody>\n",
       "    <tr>\n",
       "      <th>40857</th>\n",
       "      <td>53344</td>\n",
       "      <td>NaN</td>\n",
       "      <td>NaN</td>\n",
       "    </tr>\n",
       "    <tr>\n",
       "      <th>40954</th>\n",
       "      <td>54165</td>\n",
       "      <td>NaN</td>\n",
       "      <td>NaN</td>\n",
       "    </tr>\n",
       "    <tr>\n",
       "      <th>41523</th>\n",
       "      <td>57161</td>\n",
       "      <td>NaN</td>\n",
       "      <td>NaN</td>\n",
       "    </tr>\n",
       "  </tbody>\n",
       "</table>\n",
       "</div>"
      ],
      "text/plain": [
       "      game.id  details.minplayers  details.maxplayers\n",
       "40857   53344                 NaN                 NaN\n",
       "40954   54165                 NaN                 NaN\n",
       "41523   57161                 NaN                 NaN"
      ]
     },
     "execution_count": 5,
     "metadata": {},
     "output_type": "execute_result"
    }
   ],
   "source": [
    "players.loc[players['details.maxplayers'].isnull()]"
   ]
  },
  {
   "cell_type": "markdown",
   "metadata": {},
   "source": [
    "##### Suprisingly, they correspond perfectly! There are ***NOT*** any values that have one value but lack the other.Since they don't have values in either series, let's drop them and make sure we no longer have any null values."
   ]
  },
  {
   "cell_type": "code",
   "execution_count": 6,
   "metadata": {},
   "outputs": [
    {
     "data": {
      "text/plain": [
       "0"
      ]
     },
     "execution_count": 6,
     "metadata": {},
     "output_type": "execute_result"
    }
   ],
   "source": [
    "ids = players.loc[players['details.minplayers'].isnull()].index.values.tolist()\n",
    "players = players.drop(ids, axis=0)\n",
    "players['details.minplayers'].isnull().sum()"
   ]
  },
  {
   "cell_type": "markdown",
   "metadata": {},
   "source": [
    "##### Let's see what the maximum amount of players is for any given game to get a sense of how wide our distribution is."
   ]
  },
  {
   "cell_type": "code",
   "execution_count": 7,
   "metadata": {},
   "outputs": [
    {
     "data": {
      "text/plain": [
       "11299.0"
      ]
     },
     "execution_count": 7,
     "metadata": {},
     "output_type": "execute_result"
    }
   ],
   "source": [
    "players['details.maxplayers'].max()"
   ]
  },
  {
   "cell_type": "markdown",
   "metadata": {},
   "source": [
    "##### Wow. That's quite a lot of players.\n",
    "\n",
    "##### Now let's check to make sure we don't have any negative numbers for `details.minplayers`."
   ]
  },
  {
   "cell_type": "code",
   "execution_count": 8,
   "metadata": {},
   "outputs": [
    {
     "data": {
      "text/plain": [
       "0.0"
      ]
     },
     "execution_count": 8,
     "metadata": {},
     "output_type": "execute_result"
    }
   ],
   "source": [
    "players['details.minplayers'].min()"
   ]
  },
  {
   "cell_type": "markdown",
   "metadata": {},
   "source": [
    "##### Great! Let's create a series for every bin in our distribution (which, for our purposes, we will limit to 100). We'll use some boolean masking to give us `True` if a game can take that number of players, and `False` if it can't."
   ]
  },
  {
   "cell_type": "code",
   "execution_count": 9,
   "metadata": {},
   "outputs": [
    {
     "data": {
      "text/html": [
       "<div>\n",
       "<style scoped>\n",
       "    .dataframe tbody tr th:only-of-type {\n",
       "        vertical-align: middle;\n",
       "    }\n",
       "\n",
       "    .dataframe tbody tr th {\n",
       "        vertical-align: top;\n",
       "    }\n",
       "\n",
       "    .dataframe thead th {\n",
       "        text-align: right;\n",
       "    }\n",
       "</style>\n",
       "<table border=\"1\" class=\"dataframe\">\n",
       "  <thead>\n",
       "    <tr style=\"text-align: right;\">\n",
       "      <th></th>\n",
       "      <th>game.id</th>\n",
       "      <th>details.minplayers</th>\n",
       "      <th>details.maxplayers</th>\n",
       "      <th>num_players.1</th>\n",
       "      <th>num_players.2</th>\n",
       "      <th>num_players.3</th>\n",
       "      <th>num_players.4</th>\n",
       "      <th>num_players.5</th>\n",
       "      <th>num_players.6</th>\n",
       "      <th>num_players.7</th>\n",
       "      <th>...</th>\n",
       "      <th>num_players.91</th>\n",
       "      <th>num_players.92</th>\n",
       "      <th>num_players.93</th>\n",
       "      <th>num_players.94</th>\n",
       "      <th>num_players.95</th>\n",
       "      <th>num_players.96</th>\n",
       "      <th>num_players.97</th>\n",
       "      <th>num_players.98</th>\n",
       "      <th>num_players.99</th>\n",
       "      <th>num_players.100</th>\n",
       "    </tr>\n",
       "  </thead>\n",
       "  <tbody>\n",
       "    <tr>\n",
       "      <th>0</th>\n",
       "      <td>1</td>\n",
       "      <td>3.0</td>\n",
       "      <td>5.0</td>\n",
       "      <td>False</td>\n",
       "      <td>False</td>\n",
       "      <td>True</td>\n",
       "      <td>True</td>\n",
       "      <td>True</td>\n",
       "      <td>False</td>\n",
       "      <td>False</td>\n",
       "      <td>...</td>\n",
       "      <td>False</td>\n",
       "      <td>False</td>\n",
       "      <td>False</td>\n",
       "      <td>False</td>\n",
       "      <td>False</td>\n",
       "      <td>False</td>\n",
       "      <td>False</td>\n",
       "      <td>False</td>\n",
       "      <td>False</td>\n",
       "      <td>False</td>\n",
       "    </tr>\n",
       "    <tr>\n",
       "      <th>1</th>\n",
       "      <td>2</td>\n",
       "      <td>3.0</td>\n",
       "      <td>4.0</td>\n",
       "      <td>False</td>\n",
       "      <td>False</td>\n",
       "      <td>True</td>\n",
       "      <td>True</td>\n",
       "      <td>False</td>\n",
       "      <td>False</td>\n",
       "      <td>False</td>\n",
       "      <td>...</td>\n",
       "      <td>False</td>\n",
       "      <td>False</td>\n",
       "      <td>False</td>\n",
       "      <td>False</td>\n",
       "      <td>False</td>\n",
       "      <td>False</td>\n",
       "      <td>False</td>\n",
       "      <td>False</td>\n",
       "      <td>False</td>\n",
       "      <td>False</td>\n",
       "    </tr>\n",
       "    <tr>\n",
       "      <th>2</th>\n",
       "      <td>3</td>\n",
       "      <td>2.0</td>\n",
       "      <td>4.0</td>\n",
       "      <td>False</td>\n",
       "      <td>True</td>\n",
       "      <td>True</td>\n",
       "      <td>True</td>\n",
       "      <td>False</td>\n",
       "      <td>False</td>\n",
       "      <td>False</td>\n",
       "      <td>...</td>\n",
       "      <td>False</td>\n",
       "      <td>False</td>\n",
       "      <td>False</td>\n",
       "      <td>False</td>\n",
       "      <td>False</td>\n",
       "      <td>False</td>\n",
       "      <td>False</td>\n",
       "      <td>False</td>\n",
       "      <td>False</td>\n",
       "      <td>False</td>\n",
       "    </tr>\n",
       "    <tr>\n",
       "      <th>3</th>\n",
       "      <td>4</td>\n",
       "      <td>2.0</td>\n",
       "      <td>4.0</td>\n",
       "      <td>False</td>\n",
       "      <td>True</td>\n",
       "      <td>True</td>\n",
       "      <td>True</td>\n",
       "      <td>False</td>\n",
       "      <td>False</td>\n",
       "      <td>False</td>\n",
       "      <td>...</td>\n",
       "      <td>False</td>\n",
       "      <td>False</td>\n",
       "      <td>False</td>\n",
       "      <td>False</td>\n",
       "      <td>False</td>\n",
       "      <td>False</td>\n",
       "      <td>False</td>\n",
       "      <td>False</td>\n",
       "      <td>False</td>\n",
       "      <td>False</td>\n",
       "    </tr>\n",
       "    <tr>\n",
       "      <th>4</th>\n",
       "      <td>5</td>\n",
       "      <td>3.0</td>\n",
       "      <td>6.0</td>\n",
       "      <td>False</td>\n",
       "      <td>False</td>\n",
       "      <td>True</td>\n",
       "      <td>True</td>\n",
       "      <td>True</td>\n",
       "      <td>True</td>\n",
       "      <td>False</td>\n",
       "      <td>...</td>\n",
       "      <td>False</td>\n",
       "      <td>False</td>\n",
       "      <td>False</td>\n",
       "      <td>False</td>\n",
       "      <td>False</td>\n",
       "      <td>False</td>\n",
       "      <td>False</td>\n",
       "      <td>False</td>\n",
       "      <td>False</td>\n",
       "      <td>False</td>\n",
       "    </tr>\n",
       "  </tbody>\n",
       "</table>\n",
       "<p>5 rows × 103 columns</p>\n",
       "</div>"
      ],
      "text/plain": [
       "  game.id  details.minplayers  details.maxplayers  num_players.1  \\\n",
       "0       1                 3.0                 5.0          False   \n",
       "1       2                 3.0                 4.0          False   \n",
       "2       3                 2.0                 4.0          False   \n",
       "3       4                 2.0                 4.0          False   \n",
       "4       5                 3.0                 6.0          False   \n",
       "\n",
       "   num_players.2  num_players.3  num_players.4  num_players.5  num_players.6  \\\n",
       "0          False           True           True           True          False   \n",
       "1          False           True           True          False          False   \n",
       "2           True           True           True          False          False   \n",
       "3           True           True           True          False          False   \n",
       "4          False           True           True           True           True   \n",
       "\n",
       "   num_players.7       ...         num_players.91  num_players.92  \\\n",
       "0          False       ...                  False           False   \n",
       "1          False       ...                  False           False   \n",
       "2          False       ...                  False           False   \n",
       "3          False       ...                  False           False   \n",
       "4          False       ...                  False           False   \n",
       "\n",
       "   num_players.93  num_players.94  num_players.95  num_players.96  \\\n",
       "0           False           False           False           False   \n",
       "1           False           False           False           False   \n",
       "2           False           False           False           False   \n",
       "3           False           False           False           False   \n",
       "4           False           False           False           False   \n",
       "\n",
       "   num_players.97  num_players.98  num_players.99  num_players.100  \n",
       "0           False           False           False            False  \n",
       "1           False           False           False            False  \n",
       "2           False           False           False            False  \n",
       "3           False           False           False            False  \n",
       "4           False           False           False            False  \n",
       "\n",
       "[5 rows x 103 columns]"
      ]
     },
     "execution_count": 9,
     "metadata": {},
     "output_type": "execute_result"
    }
   ],
   "source": [
    "for num_players in range(1, 101):\n",
    "    column_name = 'num_players.' + str(num_players)\n",
    "    players[column_name] = (players['details.minplayers'] <= num_players) & (players['details.maxplayers'] >= num_players)\n",
    "players.head()"
   ]
  },
  {
   "cell_type": "markdown",
   "metadata": {},
   "source": [
    "##### Now that we have those series, we can sum them to create a dataframe that will reflect our distribution, with a series for the `Number of Players`, and `Number of Games`."
   ]
  },
  {
   "cell_type": "code",
   "execution_count": 10,
   "metadata": {},
   "outputs": [
    {
     "data": {
      "text/html": [
       "<div>\n",
       "<style scoped>\n",
       "    .dataframe tbody tr th:only-of-type {\n",
       "        vertical-align: middle;\n",
       "    }\n",
       "\n",
       "    .dataframe tbody tr th {\n",
       "        vertical-align: top;\n",
       "    }\n",
       "\n",
       "    .dataframe thead th {\n",
       "        text-align: right;\n",
       "    }\n",
       "</style>\n",
       "<table border=\"1\" class=\"dataframe\">\n",
       "  <thead>\n",
       "    <tr style=\"text-align: right;\">\n",
       "      <th></th>\n",
       "      <th>Number of Players</th>\n",
       "      <th>Number of Games</th>\n",
       "    </tr>\n",
       "  </thead>\n",
       "  <tbody>\n",
       "    <tr>\n",
       "      <th>0</th>\n",
       "      <td>1</td>\n",
       "      <td>10945</td>\n",
       "    </tr>\n",
       "    <tr>\n",
       "      <th>1</th>\n",
       "      <td>2</td>\n",
       "      <td>73329</td>\n",
       "    </tr>\n",
       "    <tr>\n",
       "      <th>2</th>\n",
       "      <td>3</td>\n",
       "      <td>61442</td>\n",
       "    </tr>\n",
       "    <tr>\n",
       "      <th>3</th>\n",
       "      <td>4</td>\n",
       "      <td>61990</td>\n",
       "    </tr>\n",
       "    <tr>\n",
       "      <th>4</th>\n",
       "      <td>5</td>\n",
       "      <td>35903</td>\n",
       "    </tr>\n",
       "  </tbody>\n",
       "</table>\n",
       "</div>"
      ],
      "text/plain": [
       "   Number of Players  Number of Games\n",
       "0                  1            10945\n",
       "1                  2            73329\n",
       "2                  3            61442\n",
       "3                  4            61990\n",
       "4                  5            35903"
      ]
     },
     "execution_count": 10,
     "metadata": {},
     "output_type": "execute_result"
    }
   ],
   "source": [
    "counts = players.filter(like='num_players').sum(axis=0).to_frame()\n",
    "counts['Number of Players'] = [splitted.split('.')[1] for splitted in counts.index.values.tolist()]\n",
    "counts = counts.rename(columns={0: 'Number of Games'}).reset_index(drop=True)\n",
    "counts = counts[['Number of Players', 'Number of Games']]\n",
    "counts = counts.astype(int)\n",
    "counts.head()"
   ]
  },
  {
   "cell_type": "markdown",
   "metadata": {},
   "source": [
    "##### This dataframe is hosting our distribution information nicely. Now, when we do a preliminary graph, we can see that the values peak where our number of players is two, and tapers off after that. We're probably safe cutting this graph fairly short to keep it informative and useful."
   ]
  },
  {
   "cell_type": "code",
   "execution_count": 11,
   "metadata": {},
   "outputs": [
    {
     "data": {
      "image/png": "[encoded data removed]",
      "text/plain": [
       "<Figure size 432x288 with 1 Axes>"
      ]
     },
     "metadata": {
      "needs_background": "light"
     },
     "output_type": "display_data"
    }
   ],
   "source": [
    "fig, ax = plt.subplots(nrows=1, ncols=1)\n",
    "ax.plot(counts['Number of Players'].values, counts['Number of Games'].values)\n",
    "fig;"
   ]
  },
  {
   "cell_type": "markdown",
   "metadata": {},
   "source": [
    "##### And now, the final product...."
   ]
  },
  {
   "cell_type": "code",
   "execution_count": 12,
   "metadata": {},
   "outputs": [
    {
     "data": {
      "image/png": "[encoded data removed]",
      "text/plain": [
       "<Figure size 1008x288 with 1 Axes>"
      ]
     },
     "metadata": {
      "needs_background": "light"
     },
     "output_type": "display_data"
    }
   ],
   "source": [
    "x = counts['Number of Players'].values\n",
    "y = counts['Number of Games'].values\n",
    "\n",
    "x_slice = x[:20]\n",
    "y_slice = y[:20]\n",
    "\n",
    "text_kwargs = dict(family='sans-serif', fontsize=9, fontstyle='italic')\n",
    "\n",
    "major_ticker = ticker.FixedLocator([x for x in range(10,max(x)+1,10)])\n",
    "minor_ticker = ticker.AutoMinorLocator(n=10)\n",
    "\n",
    "fig, ax = plt.subplots(nrows=1, ncols=1, figsize=(14, 4))\n",
    "ax.bar(x_slice, y_slice, color='#E1974C')\n",
    "ax.set_xlim(0, x_slice.max() + 1)\n",
    "ax.set_ylim(0, y_slice.max() + 10000)\n",
    "ax.xaxis.set_major_locator(major_ticker)\n",
    "ax.xaxis.set_minor_locator(minor_ticker)\n",
    "ax.set_ylabel('Number of Games in Database', **text_kwargs)\n",
    "ax.set_xlabel('Number of Players', **text_kwargs)\n",
    "\n",
    "for count in range(0, len(x_slice)):\n",
    "    ax.text(x=x_slice[count], y=y_slice[count] + 1000, s=str(y_slice[count]), ha='center', **text_kwargs)\n",
    "    \n",
    "fig.suptitle('Distribution of Games per Number of Players', fontsize=20, fontweight='bold')\n",
    "\n",
    "fig;"
   ]
  },
  {
   "cell_type": "markdown",
   "metadata": {},
   "source": [
    "##### So, now we know that if you want access to the most broad range of games possible, you're better off not throwing a party, but rather inviting a good friend to play with you. The number of players that allow you access to the broadest range of games in our database is 2."
   ]
  },
  {
   "cell_type": "markdown",
   "metadata": {},
   "source": [
    "# Data Source: CSV"
   ]
  },
  {
   "cell_type": "markdown",
   "metadata": {},
   "source": [
    "##### The following .csv file comes from a practice dataset that I used when I was learning pandas. What's interesting about the dataset is that it contains information on tons of colleges across the United States. One attribute of the dataset is that it shows the percentage of each school's races. I could compare my own school, BYU, against the average college in the United States!"
   ]
  },
  {
   "cell_type": "code",
   "execution_count": 13,
   "metadata": {},
   "outputs": [
    {
     "data": {
      "text/html": [
       "<div>\n",
       "<style scoped>\n",
       "    .dataframe tbody tr th:only-of-type {\n",
       "        vertical-align: middle;\n",
       "    }\n",
       "\n",
       "    .dataframe tbody tr th {\n",
       "        vertical-align: top;\n",
       "    }\n",
       "\n",
       "    .dataframe thead th {\n",
       "        text-align: right;\n",
       "    }\n",
       "</style>\n",
       "<table border=\"1\" class=\"dataframe\">\n",
       "  <thead>\n",
       "    <tr style=\"text-align: right;\">\n",
       "      <th></th>\n",
       "      <th>INSTNM</th>\n",
       "      <th>CITY</th>\n",
       "      <th>STABBR</th>\n",
       "      <th>HBCU</th>\n",
       "      <th>MENONLY</th>\n",
       "      <th>WOMENONLY</th>\n",
       "      <th>RELAFFIL</th>\n",
       "      <th>SATVRMID</th>\n",
       "      <th>SATMTMID</th>\n",
       "      <th>DISTANCEONLY</th>\n",
       "      <th>...</th>\n",
       "      <th>UGDS_2MOR</th>\n",
       "      <th>UGDS_NRA</th>\n",
       "      <th>UGDS_UNKN</th>\n",
       "      <th>PPTUG_EF</th>\n",
       "      <th>CURROPER</th>\n",
       "      <th>PCTPELL</th>\n",
       "      <th>PCTFLOAN</th>\n",
       "      <th>UG25ABV</th>\n",
       "      <th>MD_EARN_WNE_P10</th>\n",
       "      <th>GRAD_DEBT_MDN_SUPP</th>\n",
       "    </tr>\n",
       "  </thead>\n",
       "  <tbody>\n",
       "    <tr>\n",
       "      <th>0</th>\n",
       "      <td>Alabama A &amp; M University</td>\n",
       "      <td>Normal</td>\n",
       "      <td>AL</td>\n",
       "      <td>1.0</td>\n",
       "      <td>0.0</td>\n",
       "      <td>0.0</td>\n",
       "      <td>0</td>\n",
       "      <td>424.0</td>\n",
       "      <td>420.0</td>\n",
       "      <td>0.0</td>\n",
       "      <td>...</td>\n",
       "      <td>0.0000</td>\n",
       "      <td>0.0059</td>\n",
       "      <td>0.0138</td>\n",
       "      <td>0.0656</td>\n",
       "      <td>1</td>\n",
       "      <td>0.7356</td>\n",
       "      <td>0.8284</td>\n",
       "      <td>0.1049</td>\n",
       "      <td>30300</td>\n",
       "      <td>33888</td>\n",
       "    </tr>\n",
       "    <tr>\n",
       "      <th>1</th>\n",
       "      <td>University of Alabama at Birmingham</td>\n",
       "      <td>Birmingham</td>\n",
       "      <td>AL</td>\n",
       "      <td>0.0</td>\n",
       "      <td>0.0</td>\n",
       "      <td>0.0</td>\n",
       "      <td>0</td>\n",
       "      <td>570.0</td>\n",
       "      <td>565.0</td>\n",
       "      <td>0.0</td>\n",
       "      <td>...</td>\n",
       "      <td>0.0368</td>\n",
       "      <td>0.0179</td>\n",
       "      <td>0.0100</td>\n",
       "      <td>0.2607</td>\n",
       "      <td>1</td>\n",
       "      <td>0.3460</td>\n",
       "      <td>0.5214</td>\n",
       "      <td>0.2422</td>\n",
       "      <td>39700</td>\n",
       "      <td>21941.5</td>\n",
       "    </tr>\n",
       "    <tr>\n",
       "      <th>2</th>\n",
       "      <td>Amridge University</td>\n",
       "      <td>Montgomery</td>\n",
       "      <td>AL</td>\n",
       "      <td>0.0</td>\n",
       "      <td>0.0</td>\n",
       "      <td>0.0</td>\n",
       "      <td>1</td>\n",
       "      <td>NaN</td>\n",
       "      <td>NaN</td>\n",
       "      <td>1.0</td>\n",
       "      <td>...</td>\n",
       "      <td>0.0000</td>\n",
       "      <td>0.0000</td>\n",
       "      <td>0.2715</td>\n",
       "      <td>0.4536</td>\n",
       "      <td>1</td>\n",
       "      <td>0.6801</td>\n",
       "      <td>0.7795</td>\n",
       "      <td>0.8540</td>\n",
       "      <td>40100</td>\n",
       "      <td>23370</td>\n",
       "    </tr>\n",
       "    <tr>\n",
       "      <th>3</th>\n",
       "      <td>University of Alabama in Huntsville</td>\n",
       "      <td>Huntsville</td>\n",
       "      <td>AL</td>\n",
       "      <td>0.0</td>\n",
       "      <td>0.0</td>\n",
       "      <td>0.0</td>\n",
       "      <td>0</td>\n",
       "      <td>595.0</td>\n",
       "      <td>590.0</td>\n",
       "      <td>0.0</td>\n",
       "      <td>...</td>\n",
       "      <td>0.0172</td>\n",
       "      <td>0.0332</td>\n",
       "      <td>0.0350</td>\n",
       "      <td>0.2146</td>\n",
       "      <td>1</td>\n",
       "      <td>0.3072</td>\n",
       "      <td>0.4596</td>\n",
       "      <td>0.2640</td>\n",
       "      <td>45500</td>\n",
       "      <td>24097</td>\n",
       "    </tr>\n",
       "    <tr>\n",
       "      <th>4</th>\n",
       "      <td>Alabama State University</td>\n",
       "      <td>Montgomery</td>\n",
       "      <td>AL</td>\n",
       "      <td>1.0</td>\n",
       "      <td>0.0</td>\n",
       "      <td>0.0</td>\n",
       "      <td>0</td>\n",
       "      <td>425.0</td>\n",
       "      <td>430.0</td>\n",
       "      <td>0.0</td>\n",
       "      <td>...</td>\n",
       "      <td>0.0098</td>\n",
       "      <td>0.0243</td>\n",
       "      <td>0.0137</td>\n",
       "      <td>0.0892</td>\n",
       "      <td>1</td>\n",
       "      <td>0.7347</td>\n",
       "      <td>0.7554</td>\n",
       "      <td>0.1270</td>\n",
       "      <td>26600</td>\n",
       "      <td>33118.5</td>\n",
       "    </tr>\n",
       "  </tbody>\n",
       "</table>\n",
       "<p>5 rows × 27 columns</p>\n",
       "</div>"
      ],
      "text/plain": [
       "                                INSTNM        CITY STABBR  HBCU  MENONLY  \\\n",
       "0             Alabama A & M University      Normal     AL   1.0      0.0   \n",
       "1  University of Alabama at Birmingham  Birmingham     AL   0.0      0.0   \n",
       "2                   Amridge University  Montgomery     AL   0.0      0.0   \n",
       "3  University of Alabama in Huntsville  Huntsville     AL   0.0      0.0   \n",
       "4             Alabama State University  Montgomery     AL   1.0      0.0   \n",
       "\n",
       "   WOMENONLY  RELAFFIL  SATVRMID  SATMTMID  DISTANCEONLY         ...          \\\n",
       "0        0.0         0     424.0     420.0           0.0         ...           \n",
       "1        0.0         0     570.0     565.0           0.0         ...           \n",
       "2        0.0         1       NaN       NaN           1.0         ...           \n",
       "3        0.0         0     595.0     590.0           0.0         ...           \n",
       "4        0.0         0     425.0     430.0           0.0         ...           \n",
       "\n",
       "   UGDS_2MOR  UGDS_NRA  UGDS_UNKN  PPTUG_EF  CURROPER  PCTPELL  PCTFLOAN  \\\n",
       "0     0.0000    0.0059     0.0138    0.0656         1   0.7356    0.8284   \n",
       "1     0.0368    0.0179     0.0100    0.2607         1   0.3460    0.5214   \n",
       "2     0.0000    0.0000     0.2715    0.4536         1   0.6801    0.7795   \n",
       "3     0.0172    0.0332     0.0350    0.2146         1   0.3072    0.4596   \n",
       "4     0.0098    0.0243     0.0137    0.0892         1   0.7347    0.7554   \n",
       "\n",
       "   UG25ABV  MD_EARN_WNE_P10  GRAD_DEBT_MDN_SUPP  \n",
       "0   0.1049            30300               33888  \n",
       "1   0.2422            39700             21941.5  \n",
       "2   0.8540            40100               23370  \n",
       "3   0.2640            45500               24097  \n",
       "4   0.1270            26600             33118.5  \n",
       "\n",
       "[5 rows x 27 columns]"
      ]
     },
     "execution_count": 13,
     "metadata": {},
     "output_type": "execute_result"
    }
   ],
   "source": [
    "college = pd.read_csv('college.csv')\n",
    "college.head()"
   ]
  },
  {
   "cell_type": "markdown",
   "metadata": {},
   "source": [
    "##### Now that I have the .csv file loaded in, let's get the colums that give the different percentages, and keep the school name tied to them."
   ]
  },
  {
   "cell_type": "code",
   "execution_count": 14,
   "metadata": {},
   "outputs": [
    {
     "data": {
      "text/html": [
       "<div>\n",
       "<style scoped>\n",
       "    .dataframe tbody tr th:only-of-type {\n",
       "        vertical-align: middle;\n",
       "    }\n",
       "\n",
       "    .dataframe tbody tr th {\n",
       "        vertical-align: top;\n",
       "    }\n",
       "\n",
       "    .dataframe thead th {\n",
       "        text-align: right;\n",
       "    }\n",
       "</style>\n",
       "<table border=\"1\" class=\"dataframe\">\n",
       "  <thead>\n",
       "    <tr style=\"text-align: right;\">\n",
       "      <th></th>\n",
       "      <th>White</th>\n",
       "      <th>Black</th>\n",
       "      <th>Hispanic</th>\n",
       "      <th>Asian</th>\n",
       "      <th>Native American</th>\n",
       "      <th>Pacific Islander</th>\n",
       "      <th>2 or More</th>\n",
       "      <th>NRA</th>\n",
       "      <th>Unknown</th>\n",
       "    </tr>\n",
       "    <tr>\n",
       "      <th>INSTNM</th>\n",
       "      <th></th>\n",
       "      <th></th>\n",
       "      <th></th>\n",
       "      <th></th>\n",
       "      <th></th>\n",
       "      <th></th>\n",
       "      <th></th>\n",
       "      <th></th>\n",
       "      <th></th>\n",
       "    </tr>\n",
       "  </thead>\n",
       "  <tbody>\n",
       "    <tr>\n",
       "      <th>Alabama A &amp; M University</th>\n",
       "      <td>0.0333</td>\n",
       "      <td>0.9353</td>\n",
       "      <td>0.0055</td>\n",
       "      <td>0.0019</td>\n",
       "      <td>0.0024</td>\n",
       "      <td>0.0019</td>\n",
       "      <td>0.0000</td>\n",
       "      <td>0.0059</td>\n",
       "      <td>0.0138</td>\n",
       "    </tr>\n",
       "    <tr>\n",
       "      <th>University of Alabama at Birmingham</th>\n",
       "      <td>0.5922</td>\n",
       "      <td>0.2600</td>\n",
       "      <td>0.0283</td>\n",
       "      <td>0.0518</td>\n",
       "      <td>0.0022</td>\n",
       "      <td>0.0007</td>\n",
       "      <td>0.0368</td>\n",
       "      <td>0.0179</td>\n",
       "      <td>0.0100</td>\n",
       "    </tr>\n",
       "    <tr>\n",
       "      <th>Amridge University</th>\n",
       "      <td>0.2990</td>\n",
       "      <td>0.4192</td>\n",
       "      <td>0.0069</td>\n",
       "      <td>0.0034</td>\n",
       "      <td>0.0000</td>\n",
       "      <td>0.0000</td>\n",
       "      <td>0.0000</td>\n",
       "      <td>0.0000</td>\n",
       "      <td>0.2715</td>\n",
       "    </tr>\n",
       "    <tr>\n",
       "      <th>University of Alabama in Huntsville</th>\n",
       "      <td>0.6988</td>\n",
       "      <td>0.1255</td>\n",
       "      <td>0.0382</td>\n",
       "      <td>0.0376</td>\n",
       "      <td>0.0143</td>\n",
       "      <td>0.0002</td>\n",
       "      <td>0.0172</td>\n",
       "      <td>0.0332</td>\n",
       "      <td>0.0350</td>\n",
       "    </tr>\n",
       "    <tr>\n",
       "      <th>Alabama State University</th>\n",
       "      <td>0.0158</td>\n",
       "      <td>0.9208</td>\n",
       "      <td>0.0121</td>\n",
       "      <td>0.0019</td>\n",
       "      <td>0.0010</td>\n",
       "      <td>0.0006</td>\n",
       "      <td>0.0098</td>\n",
       "      <td>0.0243</td>\n",
       "      <td>0.0137</td>\n",
       "    </tr>\n",
       "  </tbody>\n",
       "</table>\n",
       "</div>"
      ],
      "text/plain": [
       "                                      White   Black  Hispanic   Asian  \\\n",
       "INSTNM                                                                  \n",
       "Alabama A & M University             0.0333  0.9353    0.0055  0.0019   \n",
       "University of Alabama at Birmingham  0.5922  0.2600    0.0283  0.0518   \n",
       "Amridge University                   0.2990  0.4192    0.0069  0.0034   \n",
       "University of Alabama in Huntsville  0.6988  0.1255    0.0382  0.0376   \n",
       "Alabama State University             0.0158  0.9208    0.0121  0.0019   \n",
       "\n",
       "                                     Native American  Pacific Islander  \\\n",
       "INSTNM                                                                   \n",
       "Alabama A & M University                      0.0024            0.0019   \n",
       "University of Alabama at Birmingham           0.0022            0.0007   \n",
       "Amridge University                            0.0000            0.0000   \n",
       "University of Alabama in Huntsville           0.0143            0.0002   \n",
       "Alabama State University                      0.0010            0.0006   \n",
       "\n",
       "                                     2 or More     NRA  Unknown  \n",
       "INSTNM                                                           \n",
       "Alabama A & M University                0.0000  0.0059   0.0138  \n",
       "University of Alabama at Birmingham     0.0368  0.0179   0.0100  \n",
       "Amridge University                      0.0000  0.0000   0.2715  \n",
       "University of Alabama in Huntsville     0.0172  0.0332   0.0350  \n",
       "Alabama State University                0.0098  0.0243   0.0137  "
      ]
     },
     "execution_count": 14,
     "metadata": {},
     "output_type": "execute_result"
    }
   ],
   "source": [
    "data = college.filter(like='UGDS_')\n",
    "column_changes = {'UGDS_WHITE': 'White',\n",
    "                 'UGDS_BLACK': 'Black',\n",
    "                 'UGDS_HISP': 'Hispanic',\n",
    "                 'UGDS_ASIAN': 'Asian',\n",
    "                 'UGDS_AIAN': 'Native American',\n",
    "                 'UGDS_NHPI': 'Pacific Islander',\n",
    "                 'UGDS_2MOR': '2 or More',\n",
    "                 'UGDS_NRA': 'NRA',\n",
    "                 'UGDS_UNKN': 'Unknown'}\n",
    "data = data.rename(columns=column_changes)\n",
    "data = pd.concat([college['INSTNM'], data], axis=1)\n",
    "data = data.set_index('INSTNM', drop=True)\n",
    "data.head()"
   ]
  },
  {
   "cell_type": "markdown",
   "metadata": {},
   "source": [
    "##### Let's check for any missing values."
   ]
  },
  {
   "cell_type": "code",
   "execution_count": 15,
   "metadata": {},
   "outputs": [
    {
     "name": "stdout",
     "output_type": "stream",
     "text": [
      "Rows: 661\n"
     ]
    },
    {
     "data": {
      "text/html": [
       "<div>\n",
       "<style scoped>\n",
       "    .dataframe tbody tr th:only-of-type {\n",
       "        vertical-align: middle;\n",
       "    }\n",
       "\n",
       "    .dataframe tbody tr th {\n",
       "        vertical-align: top;\n",
       "    }\n",
       "\n",
       "    .dataframe thead th {\n",
       "        text-align: right;\n",
       "    }\n",
       "</style>\n",
       "<table border=\"1\" class=\"dataframe\">\n",
       "  <thead>\n",
       "    <tr style=\"text-align: right;\">\n",
       "      <th></th>\n",
       "      <th>White</th>\n",
       "      <th>Black</th>\n",
       "      <th>Hispanic</th>\n",
       "      <th>Asian</th>\n",
       "      <th>Native American</th>\n",
       "      <th>Pacific Islander</th>\n",
       "      <th>2 or More</th>\n",
       "      <th>NRA</th>\n",
       "      <th>Unknown</th>\n",
       "    </tr>\n",
       "    <tr>\n",
       "      <th>INSTNM</th>\n",
       "      <th></th>\n",
       "      <th></th>\n",
       "      <th></th>\n",
       "      <th></th>\n",
       "      <th></th>\n",
       "      <th></th>\n",
       "      <th></th>\n",
       "      <th></th>\n",
       "      <th></th>\n",
       "    </tr>\n",
       "  </thead>\n",
       "  <tbody>\n",
       "    <tr>\n",
       "      <th>Frank Lloyd Wright School of Architecture</th>\n",
       "      <td>NaN</td>\n",
       "      <td>NaN</td>\n",
       "      <td>NaN</td>\n",
       "      <td>NaN</td>\n",
       "      <td>NaN</td>\n",
       "      <td>NaN</td>\n",
       "      <td>NaN</td>\n",
       "      <td>NaN</td>\n",
       "      <td>NaN</td>\n",
       "    </tr>\n",
       "    <tr>\n",
       "      <th>Academy of Chinese Culture and Health Sciences</th>\n",
       "      <td>NaN</td>\n",
       "      <td>NaN</td>\n",
       "      <td>NaN</td>\n",
       "      <td>NaN</td>\n",
       "      <td>NaN</td>\n",
       "      <td>NaN</td>\n",
       "      <td>NaN</td>\n",
       "      <td>NaN</td>\n",
       "      <td>NaN</td>\n",
       "    </tr>\n",
       "    <tr>\n",
       "      <th>American Baptist Seminary of the West</th>\n",
       "      <td>NaN</td>\n",
       "      <td>NaN</td>\n",
       "      <td>NaN</td>\n",
       "      <td>NaN</td>\n",
       "      <td>NaN</td>\n",
       "      <td>NaN</td>\n",
       "      <td>NaN</td>\n",
       "      <td>NaN</td>\n",
       "      <td>NaN</td>\n",
       "    </tr>\n",
       "    <tr>\n",
       "      <th>American Film Institute Conservatory</th>\n",
       "      <td>NaN</td>\n",
       "      <td>NaN</td>\n",
       "      <td>NaN</td>\n",
       "      <td>NaN</td>\n",
       "      <td>NaN</td>\n",
       "      <td>NaN</td>\n",
       "      <td>NaN</td>\n",
       "      <td>NaN</td>\n",
       "      <td>NaN</td>\n",
       "    </tr>\n",
       "    <tr>\n",
       "      <th>Phillips Graduate Institute</th>\n",
       "      <td>NaN</td>\n",
       "      <td>NaN</td>\n",
       "      <td>NaN</td>\n",
       "      <td>NaN</td>\n",
       "      <td>NaN</td>\n",
       "      <td>NaN</td>\n",
       "      <td>NaN</td>\n",
       "      <td>NaN</td>\n",
       "      <td>NaN</td>\n",
       "    </tr>\n",
       "  </tbody>\n",
       "</table>\n",
       "</div>"
      ],
      "text/plain": [
       "                                                White  Black  Hispanic  Asian  \\\n",
       "INSTNM                                                                          \n",
       "Frank Lloyd Wright School of Architecture         NaN    NaN       NaN    NaN   \n",
       "Academy of Chinese Culture and Health Sciences    NaN    NaN       NaN    NaN   \n",
       "American Baptist Seminary of the West             NaN    NaN       NaN    NaN   \n",
       "American Film Institute Conservatory              NaN    NaN       NaN    NaN   \n",
       "Phillips Graduate Institute                       NaN    NaN       NaN    NaN   \n",
       "\n",
       "                                                Native American  \\\n",
       "INSTNM                                                            \n",
       "Frank Lloyd Wright School of Architecture                   NaN   \n",
       "Academy of Chinese Culture and Health Sciences              NaN   \n",
       "American Baptist Seminary of the West                       NaN   \n",
       "American Film Institute Conservatory                        NaN   \n",
       "Phillips Graduate Institute                                 NaN   \n",
       "\n",
       "                                                Pacific Islander  2 or More  \\\n",
       "INSTNM                                                                        \n",
       "Frank Lloyd Wright School of Architecture                    NaN        NaN   \n",
       "Academy of Chinese Culture and Health Sciences               NaN        NaN   \n",
       "American Baptist Seminary of the West                        NaN        NaN   \n",
       "American Film Institute Conservatory                         NaN        NaN   \n",
       "Phillips Graduate Institute                                  NaN        NaN   \n",
       "\n",
       "                                                NRA  Unknown  \n",
       "INSTNM                                                        \n",
       "Frank Lloyd Wright School of Architecture       NaN      NaN  \n",
       "Academy of Chinese Culture and Health Sciences  NaN      NaN  \n",
       "American Baptist Seminary of the West           NaN      NaN  \n",
       "American Film Institute Conservatory            NaN      NaN  \n",
       "Phillips Graduate Institute                     NaN      NaN  "
      ]
     },
     "execution_count": 15,
     "metadata": {},
     "output_type": "execute_result"
    }
   ],
   "source": [
    "missing_values = data[data.isnull().any(axis=1)]\n",
    "print('Rows: {}'.format(missing_values.shape[0]))\n",
    "missing_values.head()"
   ]
  },
  {
   "cell_type": "markdown",
   "metadata": {},
   "source": [
    "##### We have the number of rows in the previous dataframe-- let's look to see how many NaN values there are across each column."
   ]
  },
  {
   "cell_type": "code",
   "execution_count": 16,
   "metadata": {},
   "outputs": [
    {
     "data": {
      "text/plain": [
       "White               661\n",
       "Black               661\n",
       "Hispanic            661\n",
       "Asian               661\n",
       "Native American     661\n",
       "Pacific Islander    661\n",
       "2 or More           661\n",
       "NRA                 661\n",
       "Unknown             661\n",
       "dtype: int64"
      ]
     },
     "execution_count": 16,
     "metadata": {},
     "output_type": "execute_result"
    }
   ],
   "source": [
    "data.isnull().sum()"
   ]
  },
  {
   "cell_type": "markdown",
   "metadata": {},
   "source": [
    "##### It looks like it's the case that there are simply 661 schools that did not report, and there are no missing values otherwise. These schools that didn't report can't help us. Let's drop them."
   ]
  },
  {
   "cell_type": "code",
   "execution_count": 17,
   "metadata": {},
   "outputs": [
    {
     "data": {
      "text/plain": [
       "White               0\n",
       "Black               0\n",
       "Hispanic            0\n",
       "Asian               0\n",
       "Native American     0\n",
       "Pacific Islander    0\n",
       "2 or More           0\n",
       "NRA                 0\n",
       "Unknown             0\n",
       "dtype: int64"
      ]
     },
     "execution_count": 17,
     "metadata": {},
     "output_type": "execute_result"
    }
   ],
   "source": [
    "data = data.dropna(axis=0, how='any')\n",
    "data.isnull().sum()"
   ]
  },
  {
   "cell_type": "markdown",
   "metadata": {},
   "source": [
    "##### Let's look and see what the min and max values are in the entire dataset to assure us that we're working on a scale from 0% to 100%."
   ]
  },
  {
   "cell_type": "code",
   "execution_count": 18,
   "metadata": {},
   "outputs": [
    {
     "data": {
      "text/html": [
       "<div>\n",
       "<style scoped>\n",
       "    .dataframe tbody tr th:only-of-type {\n",
       "        vertical-align: middle;\n",
       "    }\n",
       "\n",
       "    .dataframe tbody tr th {\n",
       "        vertical-align: top;\n",
       "    }\n",
       "\n",
       "    .dataframe thead th {\n",
       "        text-align: right;\n",
       "    }\n",
       "</style>\n",
       "<table border=\"1\" class=\"dataframe\">\n",
       "  <thead>\n",
       "    <tr style=\"text-align: right;\">\n",
       "      <th></th>\n",
       "      <th>White</th>\n",
       "      <th>Black</th>\n",
       "      <th>Hispanic</th>\n",
       "      <th>Asian</th>\n",
       "      <th>Native American</th>\n",
       "      <th>Pacific Islander</th>\n",
       "      <th>2 or More</th>\n",
       "      <th>NRA</th>\n",
       "      <th>Unknown</th>\n",
       "    </tr>\n",
       "  </thead>\n",
       "  <tbody>\n",
       "    <tr>\n",
       "      <th>min</th>\n",
       "      <td>0.0</td>\n",
       "      <td>0.0</td>\n",
       "      <td>0.0</td>\n",
       "      <td>0.0000</td>\n",
       "      <td>0.0</td>\n",
       "      <td>0.0000</td>\n",
       "      <td>0.0000</td>\n",
       "      <td>0.0000</td>\n",
       "      <td>0.0000</td>\n",
       "    </tr>\n",
       "    <tr>\n",
       "      <th>max</th>\n",
       "      <td>1.0</td>\n",
       "      <td>1.0</td>\n",
       "      <td>1.0</td>\n",
       "      <td>0.9727</td>\n",
       "      <td>1.0</td>\n",
       "      <td>0.9983</td>\n",
       "      <td>0.5333</td>\n",
       "      <td>0.9286</td>\n",
       "      <td>0.9027</td>\n",
       "    </tr>\n",
       "  </tbody>\n",
       "</table>\n",
       "</div>"
      ],
      "text/plain": [
       "     White  Black  Hispanic   Asian  Native American  Pacific Islander  \\\n",
       "min    0.0    0.0       0.0  0.0000              0.0            0.0000   \n",
       "max    1.0    1.0       1.0  0.9727              1.0            0.9983   \n",
       "\n",
       "     2 or More     NRA  Unknown  \n",
       "min     0.0000  0.0000   0.0000  \n",
       "max     0.5333  0.9286   0.9027  "
      ]
     },
     "execution_count": 18,
     "metadata": {},
     "output_type": "execute_result"
    }
   ],
   "source": [
    "data.describe().loc[['min', 'max']]"
   ]
  },
  {
   "cell_type": "markdown",
   "metadata": {},
   "source": [
    "##### There are some cases of people reporting 100% white, 100% black, 100% hispanic, and 100% asian. I will not show it here, but I have gone through the entries that have these max values and assured that they make sense given their circumstances. I will not be dropping any other entries from the dataset. \n",
    "\n",
    "##### We also might be interested in seeing if certain races are correlated with other races in terms of percentage of attendance. It would be interesting to know, for example, that if asian attendance increases, so does pacific islander!"
   ]
  },
  {
   "cell_type": "code",
   "execution_count": 19,
   "metadata": {},
   "outputs": [
    {
     "data": {
      "text/html": [
       "<div>\n",
       "<style scoped>\n",
       "    .dataframe tbody tr th:only-of-type {\n",
       "        vertical-align: middle;\n",
       "    }\n",
       "\n",
       "    .dataframe tbody tr th {\n",
       "        vertical-align: top;\n",
       "    }\n",
       "\n",
       "    .dataframe thead th {\n",
       "        text-align: right;\n",
       "    }\n",
       "</style>\n",
       "<table border=\"1\" class=\"dataframe\">\n",
       "  <thead>\n",
       "    <tr style=\"text-align: right;\">\n",
       "      <th></th>\n",
       "      <th>White</th>\n",
       "      <th>Black</th>\n",
       "      <th>Hispanic</th>\n",
       "      <th>Asian</th>\n",
       "      <th>Native American</th>\n",
       "      <th>Pacific Islander</th>\n",
       "      <th>2 or More</th>\n",
       "      <th>NRA</th>\n",
       "      <th>Unknown</th>\n",
       "    </tr>\n",
       "  </thead>\n",
       "  <tbody>\n",
       "    <tr>\n",
       "      <th>White</th>\n",
       "      <td>1.000000</td>\n",
       "      <td>-0.508829</td>\n",
       "      <td>-0.553338</td>\n",
       "      <td>-0.212234</td>\n",
       "      <td>-0.091418</td>\n",
       "      <td>-0.093642</td>\n",
       "      <td>-0.026394</td>\n",
       "      <td>-0.067922</td>\n",
       "      <td>-0.200142</td>\n",
       "    </tr>\n",
       "    <tr>\n",
       "      <th>Black</th>\n",
       "      <td>-0.508829</td>\n",
       "      <td>1.000000</td>\n",
       "      <td>-0.205231</td>\n",
       "      <td>-0.129508</td>\n",
       "      <td>-0.094760</td>\n",
       "      <td>-0.050119</td>\n",
       "      <td>-0.097915</td>\n",
       "      <td>-0.121405</td>\n",
       "      <td>-0.055216</td>\n",
       "    </tr>\n",
       "    <tr>\n",
       "      <th>Hispanic</th>\n",
       "      <td>-0.553338</td>\n",
       "      <td>-0.205231</td>\n",
       "      <td>1.000000</td>\n",
       "      <td>0.035583</td>\n",
       "      <td>-0.059484</td>\n",
       "      <td>-0.015723</td>\n",
       "      <td>-0.086198</td>\n",
       "      <td>-0.057169</td>\n",
       "      <td>-0.092020</td>\n",
       "    </tr>\n",
       "    <tr>\n",
       "      <th>Asian</th>\n",
       "      <td>-0.212234</td>\n",
       "      <td>-0.129508</td>\n",
       "      <td>0.035583</td>\n",
       "      <td>1.000000</td>\n",
       "      <td>-0.048954</td>\n",
       "      <td>0.104964</td>\n",
       "      <td>0.112082</td>\n",
       "      <td>0.161585</td>\n",
       "      <td>-0.030768</td>\n",
       "    </tr>\n",
       "    <tr>\n",
       "      <th>Native American</th>\n",
       "      <td>-0.091418</td>\n",
       "      <td>-0.094760</td>\n",
       "      <td>-0.059484</td>\n",
       "      <td>-0.048954</td>\n",
       "      <td>1.000000</td>\n",
       "      <td>-0.005514</td>\n",
       "      <td>-0.017774</td>\n",
       "      <td>-0.034034</td>\n",
       "      <td>-0.034520</td>\n",
       "    </tr>\n",
       "    <tr>\n",
       "      <th>Pacific Islander</th>\n",
       "      <td>-0.093642</td>\n",
       "      <td>-0.050119</td>\n",
       "      <td>-0.015723</td>\n",
       "      <td>0.104964</td>\n",
       "      <td>-0.005514</td>\n",
       "      <td>1.000000</td>\n",
       "      <td>0.065085</td>\n",
       "      <td>-0.006220</td>\n",
       "      <td>-0.004812</td>\n",
       "    </tr>\n",
       "    <tr>\n",
       "      <th>2 or More</th>\n",
       "      <td>-0.026394</td>\n",
       "      <td>-0.097915</td>\n",
       "      <td>-0.086198</td>\n",
       "      <td>0.112082</td>\n",
       "      <td>-0.017774</td>\n",
       "      <td>0.065085</td>\n",
       "      <td>1.000000</td>\n",
       "      <td>0.029899</td>\n",
       "      <td>0.080285</td>\n",
       "    </tr>\n",
       "    <tr>\n",
       "      <th>NRA</th>\n",
       "      <td>-0.067922</td>\n",
       "      <td>-0.121405</td>\n",
       "      <td>-0.057169</td>\n",
       "      <td>0.161585</td>\n",
       "      <td>-0.034034</td>\n",
       "      <td>-0.006220</td>\n",
       "      <td>0.029899</td>\n",
       "      <td>1.000000</td>\n",
       "      <td>-0.007128</td>\n",
       "    </tr>\n",
       "    <tr>\n",
       "      <th>Unknown</th>\n",
       "      <td>-0.200142</td>\n",
       "      <td>-0.055216</td>\n",
       "      <td>-0.092020</td>\n",
       "      <td>-0.030768</td>\n",
       "      <td>-0.034520</td>\n",
       "      <td>-0.004812</td>\n",
       "      <td>0.080285</td>\n",
       "      <td>-0.007128</td>\n",
       "      <td>1.000000</td>\n",
       "    </tr>\n",
       "  </tbody>\n",
       "</table>\n",
       "</div>"
      ],
      "text/plain": [
       "                     White     Black  Hispanic     Asian  Native American  \\\n",
       "White             1.000000 -0.508829 -0.553338 -0.212234        -0.091418   \n",
       "Black            -0.508829  1.000000 -0.205231 -0.129508        -0.094760   \n",
       "Hispanic         -0.553338 -0.205231  1.000000  0.035583        -0.059484   \n",
       "Asian            -0.212234 -0.129508  0.035583  1.000000        -0.048954   \n",
       "Native American  -0.091418 -0.094760 -0.059484 -0.048954         1.000000   \n",
       "Pacific Islander -0.093642 -0.050119 -0.015723  0.104964        -0.005514   \n",
       "2 or More        -0.026394 -0.097915 -0.086198  0.112082        -0.017774   \n",
       "NRA              -0.067922 -0.121405 -0.057169  0.161585        -0.034034   \n",
       "Unknown          -0.200142 -0.055216 -0.092020 -0.030768        -0.034520   \n",
       "\n",
       "                  Pacific Islander  2 or More       NRA   Unknown  \n",
       "White                    -0.093642  -0.026394 -0.067922 -0.200142  \n",
       "Black                    -0.050119  -0.097915 -0.121405 -0.055216  \n",
       "Hispanic                 -0.015723  -0.086198 -0.057169 -0.092020  \n",
       "Asian                     0.104964   0.112082  0.161585 -0.030768  \n",
       "Native American          -0.005514  -0.017774 -0.034034 -0.034520  \n",
       "Pacific Islander          1.000000   0.065085 -0.006220 -0.004812  \n",
       "2 or More                 0.065085   1.000000  0.029899  0.080285  \n",
       "NRA                      -0.006220   0.029899  1.000000 -0.007128  \n",
       "Unknown                  -0.004812   0.080285 -0.007128  1.000000  "
      ]
     },
     "execution_count": 19,
     "metadata": {},
     "output_type": "execute_result"
    }
   ],
   "source": [
    "data.corr()"
   ]
  },
  {
   "cell_type": "markdown",
   "metadata": {},
   "source": [
    "##### Everything is negatively correlated, which makes sense, because if one race increases with proportion, in most cases, you'd expect other races to decrease in their percentages. What may be interesting is the magnitudes of these correlations. You can see that asians are positively correlated with some of the races with smaller overall percentages. This might suggest that these groups grow together when a substantially-proportioned race, like white or black, decrease.\n",
    "\n",
    "##### Now let's pull BYU out of the dataset and get our data ready for graphing."
   ]
  },
  {
   "cell_type": "code",
   "execution_count": 20,
   "metadata": {},
   "outputs": [
    {
     "data": {
      "text/plain": [
       "White               0.8320\n",
       "Black               0.0050\n",
       "Hispanic            0.0563\n",
       "Asian               0.0195\n",
       "Native American     0.0037\n",
       "Pacific Islander    0.0058\n",
       "2 or More           0.0344\n",
       "NRA                 0.0314\n",
       "Unknown             0.0118\n",
       "Name: Brigham Young University-Provo, dtype: float64"
      ]
     },
     "execution_count": 20,
     "metadata": {},
     "output_type": "execute_result"
    }
   ],
   "source": [
    "byu = data.loc['Brigham Young University-Provo']\n",
    "byu"
   ]
  },
  {
   "cell_type": "markdown",
   "metadata": {},
   "source": [
    "##### Now, let's drop the BYU entry from our main dataframe, and make sure it's no longer there."
   ]
  },
  {
   "cell_type": "code",
   "execution_count": 21,
   "metadata": {},
   "outputs": [
    {
     "data": {
      "text/plain": [
       "True"
      ]
     },
     "execution_count": 21,
     "metadata": {},
     "output_type": "execute_result"
    }
   ],
   "source": [
    "no_byu = data.drop('Brigham Young University-Provo', axis=0)\n",
    "'Brigham Young University-Provo' not in no_byu.index"
   ]
  },
  {
   "cell_type": "markdown",
   "metadata": {},
   "source": [
    "##### Let's take an average of the diversity of all the different universities by pulling the `mean` row out of the resulting dataframe from the `.describe()` method."
   ]
  },
  {
   "cell_type": "code",
   "execution_count": 22,
   "metadata": {},
   "outputs": [
    {
     "data": {
      "text/plain": [
       "White               0.510160\n",
       "Black               0.190024\n",
       "Hispanic            0.161650\n",
       "Asian               0.033546\n",
       "Native American     0.013814\n",
       "Pacific Islander    0.004569\n",
       "2 or More           0.023949\n",
       "NRA                 0.016084\n",
       "Unknown             0.045186\n",
       "Name: mean, dtype: float64"
      ]
     },
     "execution_count": 22,
     "metadata": {},
     "output_type": "execute_result"
    }
   ],
   "source": [
    "no_byu = no_byu.describe().loc['mean']\n",
    "no_byu"
   ]
  },
  {
   "cell_type": "markdown",
   "metadata": {},
   "source": [
    "##### Now we have exactly what we need. Let's graph it."
   ]
  },
  {
   "cell_type": "code",
   "execution_count": 23,
   "metadata": {},
   "outputs": [
    {
     "data": {
      "image/png": "[encoded data removed]",
      "text/plain": [
       "<Figure size 1008x720 with 2 Axes>"
      ]
     },
     "metadata": {
      "needs_background": "light"
     },
     "output_type": "display_data"
    }
   ],
   "source": [
    "x_nobyu = no_byu.index.values\n",
    "y_nobyu = no_byu.values\n",
    "x_byu = byu.index.values\n",
    "y_byu = byu.values\n",
    "\n",
    "text_kwargs = dict(family='sans-serif', fontsize=12, fontstyle='italic')\n",
    "\n",
    "y_lim = 1\n",
    "\n",
    "fig, (ax1, ax2) = plt.subplots(nrows=2, ncols=1, sharex=False, figsize=(14, 10))\n",
    "\n",
    "ax1.bar(x_nobyu, y_nobyu, color='#84BA5B', width=.8)\n",
    "ax1.set_ylim(0, y_lim)\n",
    "for x_coord, y_coord in zip(x_nobyu, ['%.2f' % x for x in y_nobyu]):\n",
    "    ax1.text(x_coord, float(y_coord) + .015, y_coord, ha='center')\n",
    "ax1.set_xticklabels(list(x_nobyu), family='sans-serif', fontsize=9, fontstyle='italic')\n",
    "ax1.set_ylabel('Percentage', **text_kwargs)\n",
    "ax1.set_title('Average College Diversity', fontsize=20, fontweight='bold')\n",
    "\n",
    "ax2.bar(x_byu, y_byu, color='#6867A7', width=.8)\n",
    "ax2.set_ylim(0, y_lim)\n",
    "for x_coord, y_coord in zip(x_byu, ['%.2f' % x for x in y_byu]):\n",
    "    ax2.text(x_coord, float(y_coord) + .015, y_coord, ha='center')\n",
    "ax2.set_xticklabels(list(x_byu), family='sans-serif', fontsize=9, fontstyle='italic')\n",
    "ax2.set_ylabel('Percentage', **text_kwargs)\n",
    "ax2.set_title('BYU Diversity', fontsize=20, fontweight='bold')\n",
    "\n",
    "fig;"
   ]
  },
  {
   "cell_type": "markdown",
   "metadata": {},
   "source": [
    "##### It looks like BYU comes in really low in the black and hispanic department, while having a lot more whites. The rest look statistically similar, although more testing would better verify that claim."
   ]
  },
  {
   "cell_type": "markdown",
   "metadata": {},
   "source": [
    "# Data Source: API (*Do not run again-- token is not included*)\n",
    "\n",
    "#### This data comes from BYU's Handshake server, which hosts data on all the recruiting events that occur through BYU. I have access due to my job, where I make use of this API to publish reports that my stakeholders need."
   ]
  },
  {
   "cell_type": "markdown",
   "metadata": {},
   "source": [
    "##### We'll start by making the API call. The API will only return 50 events at a time, and I know we have thousands of events in Handshake. I want to get all of them. So I'll do this by creating an API call that safely gets all events and the corresponding information I want into a nested list, and from there, I'll be able to plug it into a dataframe object."
   ]
  },
  {
   "cell_type": "code",
   "execution_count": 24,
   "metadata": {},
   "outputs": [],
   "source": [
    "with open('handshake_token.txt', 'r') as f:\n",
    "    token = f.read()\n",
    "    \n",
    "params = {'page': 0,\n",
    "         'per_page': 50,\n",
    "         'sort_direction': 'desc',\n",
    "         'sort_column': 'start_date'}\n",
    "    \n",
    "headers = {\n",
    "        'Authorization': 'Token token=\"{}\"'.format(token),\n",
    "        'Content-Type': 'application/json',\n",
    "        'Cache-Control': 'no-cache--url',\n",
    "    }\n",
    "url = 'https://app.joinhandshake.com/api/v1/events'\n",
    "\n",
    "all_events = []\n",
    "\n",
    "while True:\n",
    "    r = requests.get(url, params=params, headers=headers)\n",
    "    if r.status_code != 200:\n",
    "        continue\n",
    "    if (r.json())['success'] != True:\n",
    "        continue\n",
    "    events = (r.json())['events']\n",
    "    if len(events) == 0:\n",
    "        break\n",
    "    for event in events:\n",
    "        single_event = []\n",
    "        single_event.append(event['id'])\n",
    "        single_event.append(event['name'])\n",
    "        single_event.append(event['status'])\n",
    "        single_event.append(event['invite_only'])\n",
    "        single_event.append(event['start_date'])\n",
    "        single_event.append(event['event_type']['name'])\n",
    "        all_events.append(single_event)\n",
    "    params['page'] += 1"
   ]
  },
  {
   "cell_type": "markdown",
   "metadata": {},
   "source": [
    "##### Let's plug it all into a DataFrame and see what we got."
   ]
  },
  {
   "cell_type": "code",
   "execution_count": 25,
   "metadata": {},
   "outputs": [
    {
     "data": {
      "text/html": [
       "<div>\n",
       "<style scoped>\n",
       "    .dataframe tbody tr th:only-of-type {\n",
       "        vertical-align: middle;\n",
       "    }\n",
       "\n",
       "    .dataframe tbody tr th {\n",
       "        vertical-align: top;\n",
       "    }\n",
       "\n",
       "    .dataframe thead th {\n",
       "        text-align: right;\n",
       "    }\n",
       "</style>\n",
       "<table border=\"1\" class=\"dataframe\">\n",
       "  <thead>\n",
       "    <tr style=\"text-align: right;\">\n",
       "      <th></th>\n",
       "      <th>ID</th>\n",
       "      <th>Name</th>\n",
       "      <th>Status</th>\n",
       "      <th>Invite Only</th>\n",
       "      <th>Start Date</th>\n",
       "      <th>Event Type</th>\n",
       "    </tr>\n",
       "  </thead>\n",
       "  <tbody>\n",
       "    <tr>\n",
       "      <th>0</th>\n",
       "      <td>269658</td>\n",
       "      <td>ExDS- Professional Development Night w/ Impact...</td>\n",
       "      <td>pending</td>\n",
       "      <td>False</td>\n",
       "      <td>2019-02-06T02:30:00.000Z</td>\n",
       "      <td>Other</td>\n",
       "    </tr>\n",
       "    <tr>\n",
       "      <th>1</th>\n",
       "      <td>269589</td>\n",
       "      <td>IM Flash Interviews</td>\n",
       "      <td>pending</td>\n",
       "      <td>False</td>\n",
       "      <td>2019-02-09T03:00:00.000Z</td>\n",
       "      <td>Other</td>\n",
       "    </tr>\n",
       "    <tr>\n",
       "      <th>2</th>\n",
       "      <td>269565</td>\n",
       "      <td>UGF Summer Internship Recruiting Booth</td>\n",
       "      <td>pending</td>\n",
       "      <td>False</td>\n",
       "      <td>2019-02-07T16:00:00.000Z</td>\n",
       "      <td>Other</td>\n",
       "    </tr>\n",
       "    <tr>\n",
       "      <th>3</th>\n",
       "      <td>269290</td>\n",
       "      <td>Southwest Office Hours:  (Internship; Accounti...</td>\n",
       "      <td>approved</td>\n",
       "      <td>True</td>\n",
       "      <td>2019-02-06T19:00:00.000Z</td>\n",
       "      <td>Other</td>\n",
       "    </tr>\n",
       "    <tr>\n",
       "      <th>4</th>\n",
       "      <td>269167</td>\n",
       "      <td>CP - Justin Jones</td>\n",
       "      <td>approved</td>\n",
       "      <td>True</td>\n",
       "      <td>2019-02-06T20:00:00.000Z</td>\n",
       "      <td>Classroom Presentation</td>\n",
       "    </tr>\n",
       "  </tbody>\n",
       "</table>\n",
       "</div>"
      ],
      "text/plain": [
       "       ID                                               Name    Status  \\\n",
       "0  269658  ExDS- Professional Development Night w/ Impact...   pending   \n",
       "1  269589                                IM Flash Interviews   pending   \n",
       "2  269565             UGF Summer Internship Recruiting Booth   pending   \n",
       "3  269290  Southwest Office Hours:  (Internship; Accounti...  approved   \n",
       "4  269167                                  CP - Justin Jones  approved   \n",
       "\n",
       "   Invite Only                Start Date              Event Type  \n",
       "0        False  2019-02-06T02:30:00.000Z                   Other  \n",
       "1        False  2019-02-09T03:00:00.000Z                   Other  \n",
       "2        False  2019-02-07T16:00:00.000Z                   Other  \n",
       "3         True  2019-02-06T19:00:00.000Z                   Other  \n",
       "4         True  2019-02-06T20:00:00.000Z  Classroom Presentation  "
      ]
     },
     "execution_count": 25,
     "metadata": {},
     "output_type": "execute_result"
    }
   ],
   "source": [
    "events = pd.DataFrame(all_events, columns=['ID', 'Name', 'Status', 'Invite Only', 'Start Date', 'Event Type'])\n",
    "events.head()"
   ]
  },
  {
   "cell_type": "markdown",
   "metadata": {},
   "source": [
    "##### Now I want to think about filtering. I think I'm going to do this on `Event Type` first. Let's look at each unique value found in the series and how many entries it has."
   ]
  },
  {
   "cell_type": "code",
   "execution_count": 26,
   "metadata": {},
   "outputs": [
    {
     "data": {
      "text/plain": [
       "Info Session              4195\n",
       "Other                      729\n",
       "Classroom Presentation     175\n",
       "Employer On-site            86\n",
       "Workshop                    75\n",
       "Networking                  48\n",
       "Speaker/Panel               39\n",
       "Group Appointment            9\n",
       "Name: Event Type, dtype: int64"
      ]
     },
     "execution_count": 26,
     "metadata": {},
     "output_type": "execute_result"
    }
   ],
   "source": [
    "events['Event Type'].value_counts()"
   ]
  },
  {
   "cell_type": "markdown",
   "metadata": {},
   "source": [
    "##### I'll filter down later. Let's look at the same thing for `Status`."
   ]
  },
  {
   "cell_type": "code",
   "execution_count": 27,
   "metadata": {},
   "outputs": [
    {
     "data": {
      "text/plain": [
       "approved    5016\n",
       "declined     297\n",
       "pending       43\n",
       "Name: Status, dtype: int64"
      ]
     },
     "execution_count": 27,
     "metadata": {},
     "output_type": "execute_result"
    }
   ],
   "source": [
    "events['Status'].value_counts()"
   ]
  },
  {
   "cell_type": "markdown",
   "metadata": {},
   "source": [
    "##### Now `Invite Only`."
   ]
  },
  {
   "cell_type": "code",
   "execution_count": 28,
   "metadata": {},
   "outputs": [
    {
     "data": {
      "text/plain": [
       "False    5094\n",
       "True      262\n",
       "Name: Invite Only, dtype: int64"
      ]
     },
     "execution_count": 28,
     "metadata": {},
     "output_type": "execute_result"
    }
   ],
   "source": [
    "events['Invite Only'].value_counts()"
   ]
  },
  {
   "cell_type": "markdown",
   "metadata": {},
   "source": [
    "##### I know how I want to filter down the data. I'm interested in keeping events that are open to all students. Anything that seems private (or not explicitly public) is a goner. So I'm going to use boolean masking to drop events of the type `Group Appointment` and `Other`. For `Status`, I only want events that are `approved`. If they are `declined` or `pending`, they didn't/won't happen. I'm not interested in those. Lastly, any event that is `Invite Only` isn't open to the public, so those got to go too."
   ]
  },
  {
   "cell_type": "code",
   "execution_count": 29,
   "metadata": {},
   "outputs": [
    {
     "data": {
      "text/html": [
       "<div>\n",
       "<style scoped>\n",
       "    .dataframe tbody tr th:only-of-type {\n",
       "        vertical-align: middle;\n",
       "    }\n",
       "\n",
       "    .dataframe tbody tr th {\n",
       "        vertical-align: top;\n",
       "    }\n",
       "\n",
       "    .dataframe thead th {\n",
       "        text-align: right;\n",
       "    }\n",
       "</style>\n",
       "<table border=\"1\" class=\"dataframe\">\n",
       "  <thead>\n",
       "    <tr style=\"text-align: right;\">\n",
       "      <th></th>\n",
       "      <th>ID</th>\n",
       "      <th>Name</th>\n",
       "      <th>Status</th>\n",
       "      <th>Invite Only</th>\n",
       "      <th>Start Date</th>\n",
       "      <th>Event Type</th>\n",
       "    </tr>\n",
       "  </thead>\n",
       "  <tbody>\n",
       "    <tr>\n",
       "      <th>11</th>\n",
       "      <td>268878</td>\n",
       "      <td>Career Bootcamp</td>\n",
       "      <td>approved</td>\n",
       "      <td>False</td>\n",
       "      <td>2019-03-28T23:00:00.000Z</td>\n",
       "      <td>Workshop</td>\n",
       "    </tr>\n",
       "    <tr>\n",
       "      <th>12</th>\n",
       "      <td>268876</td>\n",
       "      <td>Education Career Fair Prep (Teacher Fair Prep)</td>\n",
       "      <td>approved</td>\n",
       "      <td>False</td>\n",
       "      <td>2019-03-14T23:00:00.000Z</td>\n",
       "      <td>Workshop</td>\n",
       "    </tr>\n",
       "    <tr>\n",
       "      <th>15</th>\n",
       "      <td>268816</td>\n",
       "      <td>Secondary Education Lunch Panel</td>\n",
       "      <td>approved</td>\n",
       "      <td>False</td>\n",
       "      <td>2019-02-28T18:00:00.000Z</td>\n",
       "      <td>Workshop</td>\n",
       "    </tr>\n",
       "    <tr>\n",
       "      <th>16</th>\n",
       "      <td>268807</td>\n",
       "      <td>Special Education Lunch Panel</td>\n",
       "      <td>approved</td>\n",
       "      <td>False</td>\n",
       "      <td>2019-02-14T18:00:00.000Z</td>\n",
       "      <td>Workshop</td>\n",
       "    </tr>\n",
       "    <tr>\n",
       "      <th>17</th>\n",
       "      <td>268799</td>\n",
       "      <td>Elementary Education Lunch Panel</td>\n",
       "      <td>approved</td>\n",
       "      <td>False</td>\n",
       "      <td>2019-01-31T18:00:00.000Z</td>\n",
       "      <td>Workshop</td>\n",
       "    </tr>\n",
       "  </tbody>\n",
       "</table>\n",
       "</div>"
      ],
      "text/plain": [
       "        ID                                            Name    Status  \\\n",
       "11  268878                                 Career Bootcamp  approved   \n",
       "12  268876  Education Career Fair Prep (Teacher Fair Prep)  approved   \n",
       "15  268816                 Secondary Education Lunch Panel  approved   \n",
       "16  268807                   Special Education Lunch Panel  approved   \n",
       "17  268799                Elementary Education Lunch Panel  approved   \n",
       "\n",
       "    Invite Only                Start Date Event Type  \n",
       "11        False  2019-03-28T23:00:00.000Z   Workshop  \n",
       "12        False  2019-03-14T23:00:00.000Z   Workshop  \n",
       "15        False  2019-02-28T18:00:00.000Z   Workshop  \n",
       "16        False  2019-02-14T18:00:00.000Z   Workshop  \n",
       "17        False  2019-01-31T18:00:00.000Z   Workshop  "
      ]
     },
     "execution_count": 29,
     "metadata": {},
     "output_type": "execute_result"
    }
   ],
   "source": [
    "events = events[(events['Event Type'] != 'Group Appointment') & (events['Event Type'] != 'Other')]\n",
    "events = events[events['Status'] == 'approved']\n",
    "events = events[events['Invite Only'] == False]\n",
    "events.head()"
   ]
  },
  {
   "cell_type": "markdown",
   "metadata": {},
   "source": [
    "##### Looking at the series `Start Date`, I immediately see that it's returning to me strings that are datetimes in UTC (Coordinated Universal Time). I need to get these into datetime objects in Mountain Time so I don't have events spilling over into other days (which is particuarlly worrisome if the event occurs in the evening, since UTC is later than Mountain Time). Once I have them into datetime, I want to aggregate them by date, so I'll call the `.date` attribute of the datetime object to get the date back in each case."
   ]
  },
  {
   "cell_type": "code",
   "execution_count": 30,
   "metadata": {},
   "outputs": [
    {
     "data": {
      "text/plain": [
       "11    2019-03-28\n",
       "12    2019-03-14\n",
       "15    2019-02-28\n",
       "16    2019-02-14\n",
       "17    2019-01-31\n",
       "Name: Start Date, dtype: object"
      ]
     },
     "execution_count": 30,
     "metadata": {},
     "output_type": "execute_result"
    }
   ],
   "source": [
    "events['Start Date'] = events['Start Date'].apply(lambda x: datetime.datetime.strptime(x, '%Y-%m-%dT%H:%M:%S.%fZ'))\n",
    "events['Start Date'] = events['Start Date'].dt.tz_localize('UTC')\n",
    "events['Start Date'] = events['Start Date'].dt.tz_convert(pytz.timezone('US/Mountain'))\n",
    "events['Start Date'] = events['Start Date'].apply(lambda x: x.date())\n",
    "events['Start Date'].head()"
   ]
  },
  {
   "cell_type": "markdown",
   "metadata": {},
   "source": [
    "##### Here's an issue. Some dates don't have events on them, but I still want those dates to show up as having no events. I need to create a pandas datetimeindex and fill any dates that don't have any events on them with zeros."
   ]
  },
  {
   "cell_type": "code",
   "execution_count": 31,
   "metadata": {},
   "outputs": [
    {
     "data": {
      "text/plain": [
       "2014-04-01    1\n",
       "2014-04-02    0\n",
       "2014-04-03    1\n",
       "2014-04-04    0\n",
       "2014-04-05    0\n",
       "2014-04-06    0\n",
       "2014-04-07    0\n",
       "2014-04-08    0\n",
       "2014-04-09    1\n",
       "2014-04-10    0\n",
       "Freq: D, Name: Event Counts, dtype: int64"
      ]
     },
     "execution_count": 31,
     "metadata": {},
     "output_type": "execute_result"
    }
   ],
   "source": [
    "info = events['Start Date'].value_counts().sort_index()\n",
    "dt_index = pd.date_range(start=info.index[0], end=info.index[-1])\n",
    "info.index = pd.DatetimeIndex(info.index)\n",
    "info = info.reindex(dt_index, fill_value=0)\n",
    "info.rename('Event Counts', inplace=True)\n",
    "info.head(10)"
   ]
  },
  {
   "cell_type": "markdown",
   "metadata": {},
   "source": [
    "##### I'm curious to see if there are any cyclical patterns, so let's see if we can group these counts together by month and see counts for each month to effectively say what months have the most recruiting events."
   ]
  },
  {
   "cell_type": "code",
   "execution_count": 32,
   "metadata": {},
   "outputs": [
    {
     "data": {
      "text/plain": [
       "2016-09-30    361\n",
       "2017-09-30    305\n",
       "2017-10-31    226\n",
       "2015-09-30    224\n",
       "2016-10-31    185\n",
       "2018-02-28    183\n",
       "2018-03-31    182\n",
       "2018-09-30    168\n",
       "2017-02-28    160\n",
       "2014-09-30    149\n",
       "Name: Event Counts, dtype: int64"
      ]
     },
     "execution_count": 32,
     "metadata": {},
     "output_type": "execute_result"
    }
   ],
   "source": [
    "info.groupby(pd.Grouper(freq='m')).sum().sort_values(ascending=False).head(10)"
   ]
  },
  {
   "cell_type": "markdown",
   "metadata": {},
   "source": [
    "##### It looks like September of 2016 had the most events! At least in the top ten event counts, it looks like the months are fairly reoccuring, namely, September, October, February, March.\n",
    "\n",
    "##### Now, let's describe the data some more. I'm curious if event counts are correlated with certain days of the week."
   ]
  },
  {
   "cell_type": "code",
   "execution_count": 33,
   "metadata": {},
   "outputs": [
    {
     "data": {
      "text/plain": [
       "Event Counts    1.000000\n",
       "Tuesday         0.136339\n",
       "Wednesday       0.133178\n",
       "Thursday        0.227511\n",
       "Friday         -0.062473\n",
       "Saturday       -0.175175\n",
       "Sunday         -0.188787\n",
       "Monday         -0.071021\n",
       "Name: Event Counts, dtype: float64"
      ]
     },
     "execution_count": 33,
     "metadata": {},
     "output_type": "execute_result"
    }
   ],
   "source": [
    "info_frame = info.to_frame()\n",
    "info_frame['Weekday'] = [x.weekday() for x in info_frame.index]\n",
    "info_frame['Weekday'] = info_frame['Weekday'].map({0: 'Monday',\n",
    "                                                   1: 'Tuesday',\n",
    "                                                   2: 'Wednesday',\n",
    "                                                   3: 'Thursday',\n",
    "                                                   4: 'Friday',\n",
    "                                                   5: 'Saturday',\n",
    "                                                   6: 'Sunday'})\n",
    "for day in info_frame['Weekday'].unique():\n",
    "    info_frame[day] = info_frame['Weekday'].str.contains(day)\n",
    "    \n",
    "info_frame.drop('Weekday', axis=1).corr()['Event Counts']"
   ]
  },
  {
   "cell_type": "markdown",
   "metadata": {},
   "source": [
    "##### That's interesting! High event counts are most correlated with Thursday. My coworkers that need to host those events on Thursdays may benefit from being better prepared.\n",
    "\n",
    "##### Great. Anyway,  I have a series `info` where the index is the date, and the number is the amount of events that occured on that date. I can use that to move onto plotting now."
   ]
  },
  {
   "cell_type": "code",
   "execution_count": 34,
   "metadata": {},
   "outputs": [
    {
     "data": {
      "image/png": "[encoded data removed]",
      "text/plain": [
       "<Figure size 1224x288 with 1 Axes>"
      ]
     },
     "metadata": {
      "needs_background": "light"
     },
     "output_type": "display_data"
    }
   ],
   "source": [
    "counts = info.values\n",
    "dates = info.index.map(mdates.date2num).values\n",
    "\n",
    "text_kwargs = dict(family='sans-serif', fontsize=12, fontstyle='italic')\n",
    "\n",
    "years = mdates.YearLocator()\n",
    "months = mdates.MonthLocator()\n",
    "years_fmt = mdates.DateFormatter('%Y')\n",
    "count_fmt = ticker.AutoMinorLocator(n=4)\n",
    "\n",
    "fig, ax = plt.subplots(nrows=1, ncols=1, figsize=(17, 4))\n",
    "ax.plot(dates, counts)\n",
    "ax.grid(which='both', color='.9')\n",
    "\n",
    "ax.set_ylim(bottom=-.1, top=45)\n",
    "\n",
    "ax.xaxis.set_major_locator(years)\n",
    "ax.xaxis.set_major_formatter(years_fmt)\n",
    "ax.xaxis.set_minor_locator(months)\n",
    "ax.yaxis.set_minor_locator(count_fmt)\n",
    "\n",
    "ax.set_xlabel('Date', **text_kwargs)\n",
    "ax.set_ylabel('Event Count', **text_kwargs)\n",
    "fig.suptitle('Events Over Time', fontsize=20, fontweight='bold')\n",
    "\n",
    "fig;"
   ]
  },
  {
   "cell_type": "markdown",
   "metadata": {},
   "source": [
    "##### It looks like event hosting is cyclical, meaning that there is a large spike of events in September and October, at the beginning of the Fall semester, and then there is another smaller spike in February and March. It looks like almost no events go on during the Spring and Summer terms. That could be useful information for my stakeholders!"
   ]
  }
 ],
 "metadata": {
  "kernelspec": {
   "display_name": "Python 3",
   "language": "python",
   "name": "python3"
  },
  "language_info": {
   "codemirror_mode": {
    "name": "ipython",
    "version": 3
   },
   "file_extension": ".py",
   "mimetype": "text/x-python",
   "name": "python",
   "nbconvert_exporter": "python",
   "pygments_lexer": "ipython3",
   "version": "3.7.2"
  }
 },
 "nbformat": 4,
 "nbformat_minor": 2
}
